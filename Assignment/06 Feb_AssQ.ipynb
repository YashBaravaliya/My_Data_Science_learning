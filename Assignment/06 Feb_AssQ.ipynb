{
 "cells": [
  {
   "cell_type": "markdown",
   "id": "7864b8ac",
   "metadata": {},
   "source": [
    "Q1. Create a function which will take a list as an argument and return the product of all the numbers\n",
    "after creating a flat list.\n",
    "Use the below-given list as an argument for your function.\n",
    "\n",
    "list1 = [1,2,3,4, [44,55,66, True], False, (34,56,78,89,34), {1,2,3,3,2,1}, {1:34, \"key2\": [55, 67, 78, 89], 4: (45,\n",
    "22, 61, 34)}, [56, 'data science'], 'Machine Learning']\n",
    "Note: you must extract numeric keys and values of the dictionary also."
   ]
  },
  {
   "cell_type": "code",
   "execution_count": 1,
   "id": "b12c4e2a",
   "metadata": {},
   "outputs": [],
   "source": [
    "list1 = [1,2,3,4, [44,55,66, True], False, (34,56,78,89,34), {1,2,3,3,2,1}, {1:34, \"key2\": [55, 67, 78, 89], 4: (45, 22, 61, 34)}, [56, 'data science'], 'Machine Learning']"
   ]
  },
  {
   "cell_type": "code",
   "execution_count": 33,
   "id": "8aa3f215",
   "metadata": {},
   "outputs": [],
   "source": [
    "from functools import reduce\n",
    "def product_list(*args):\n",
    "    l3 = []\n",
    "    for Tuple in args:\n",
    "        for List in Tuple:\n",
    "            if type(List) == int:\n",
    "                l3.append(List)\n",
    "            elif type(List) == list:\n",
    "                for k in List:\n",
    "                    if type(k) == int:\n",
    "                        l3.append(k)\n",
    "            elif type(List) == tuple:\n",
    "                for k in List:\n",
    "                    if type(k) == int:\n",
    "                        l3.append(k)\n",
    "            elif type(List) == set:\n",
    "                for k in List:\n",
    "                    if type(k) == int:\n",
    "                        l3.append(k)\n",
    "            elif type(List) == dict:\n",
    "                for k in List.values():\n",
    "                    if type(k) == int:\n",
    "                        l3.append(k)\n",
    "            else:\n",
    "                pass\n",
    "    return l3\n"
   ]
  },
  {
   "cell_type": "code",
   "execution_count": 34,
   "id": "7b00dab8",
   "metadata": {},
   "outputs": [
    {
     "name": "stdout",
     "output_type": "stream",
     "text": [
      "[1, 2, 3, 4, 44, 55, 66, 34, 56, 78, 89, 34, 1, 2, 3, 34, 56]\n"
     ]
    },
    {
     "data": {
      "text/plain": [
       "19679733278309744640"
      ]
     },
     "execution_count": 34,
     "metadata": {},
     "output_type": "execute_result"
    }
   ],
   "source": [
    "l3 = product_list(list1)\n",
    "print(l3)\n",
    "product = lambda x,y : x*y\n",
    "reduce(product, l3)"
   ]
  },
  {
   "cell_type": "markdown",
   "id": "4ce539f5",
   "metadata": {},
   "source": [
    "Q2. Write a python program for encrypting a message sent to you by your friend. The logic of encryption should be such that, for a the output should be z. For b, the output should be y. For c, the output should be x respectively. Also, the whitespace should be replaced with a dollar sign. Keep the punctuation marks unchanged.\n",
    "Input Sentence: I want to become a Data Scientist.\n",
    "\n",
    "Encrypt the above input sentence using the program you just created.\n",
    "Note: Convert the given input sentence into lowercase before encrypting. The final output should be owercase."
   ]
  },
  {
   "cell_type": "code",
   "execution_count": 39,
   "id": "8f5d84b9",
   "metadata": {},
   "outputs": [
    {
     "name": "stdout",
     "output_type": "stream",
     "text": [
      "r$kzmg$gl$yvxlnv$z$wzgz$hxrvmgrhg\n",
      "abckevghijklmnopqrstuvwxyz\n",
      "zyxwvutsrqponmlkjihgvekcba\n"
     ]
    }
   ],
   "source": [
    "messages = 'I want to become a Data Scientist'\n",
    "messages = messages.lower().replace(' ','$')\n",
    "alphabet = 'zyxwvutsrqponmlkjihgvekcba'\n",
    "encrypt = ''\n",
    "for i in messages:\n",
    "    position = alphabet.find(i)\n",
    "    if i =='$':\n",
    "        encrypt = encrypt + i\n",
    "    else:\n",
    "        word = ord(i)-97\n",
    "        encrypt += alphabet[word]\n",
    "print(encrypt)\n",
    "a_to_z = alphabet[::-1] \n",
    "print(a_to_z)\n",
    "print(alphabet)"
   ]
  },
  {
   "cell_type": "code",
   "execution_count": null,
   "id": "b465e08f",
   "metadata": {},
   "outputs": [],
   "source": []
  }
 ],
 "metadata": {
  "kernelspec": {
   "display_name": "Python 3 (ipykernel)",
   "language": "python",
   "name": "python3"
  },
  "language_info": {
   "codemirror_mode": {
    "name": "ipython",
    "version": 3
   },
   "file_extension": ".py",
   "mimetype": "text/x-python",
   "name": "python",
   "nbconvert_exporter": "python",
   "pygments_lexer": "ipython3",
   "version": "3.9.12"
  }
 },
 "nbformat": 4,
 "nbformat_minor": 5
}
