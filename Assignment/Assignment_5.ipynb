{
 "cells": [
  {
   "cell_type": "markdown",
   "id": "7ad57ecc",
   "metadata": {},
   "source": [
    "# Assignment:-5"
   ]
  },
  {
   "cell_type": "markdown",
   "id": "d422489e",
   "metadata": {},
   "source": [
    "### 1. Create a python program to sort the given list of tuples based on integer value using a lambda function.\n",
    "[('Sachin Tendulkar', 34357), ('Ricky Ponting', 27483), ('Jack Kallis', 25534), ('Virat Kohli', 24936)]"
   ]
  },
  {
   "cell_type": "code",
   "execution_count": 1,
   "id": "cec26734",
   "metadata": {},
   "outputs": [
    {
     "data": {
      "text/plain": [
       "[('Jack Kallis', 25534),\n",
       " ('Ricky Ponting', 27483),\n",
       " ('Sachin Tendulkar', 34357),\n",
       " ('Virat Kohli', 24936)]"
      ]
     },
     "execution_count": 1,
     "metadata": {},
     "output_type": "execute_result"
    }
   ],
   "source": [
    "l1=[('Sachin Tendulkar', 34357), ('Ricky Ponting', 27483), ('Jack Kallis', 25534), ('Virat Kohli', 24936)]\n",
    "l1 = sorted(l1,key=lambda l1:l1[0])\n",
    "l1"
   ]
  },
  {
   "cell_type": "markdown",
   "id": "f46cacaf",
   "metadata": {},
   "source": [
    "### 2. Write a Python Program to find the squares of all the numbers in the given list of integers using lambda and map functions.\n",
    "[1, 2, 3, 4, 5, 6, 7, 8, 9, 10]"
   ]
  },
  {
   "cell_type": "code",
   "execution_count": 3,
   "id": "b0612517",
   "metadata": {},
   "outputs": [
    {
     "data": {
      "text/plain": [
       "[1, 4, 9, 16, 25, 36, 49, 64, 81, 100]"
      ]
     },
     "execution_count": 3,
     "metadata": {},
     "output_type": "execute_result"
    }
   ],
   "source": [
    "l1 = [1, 2, 3, 4, 5, 6, 7, 8, 9, 10]\n",
    "squre_using_lambda_and_map = list(map(lambda x: x**2, l1))\n",
    "squre_using_lambda_and_map"
   ]
  },
  {
   "cell_type": "markdown",
   "id": "c2a27f57",
   "metadata": {},
   "source": [
    "### 3. Write a python program to convert the given list of integers into a tuple of strings. Use map and lambda functions\n",
    "Given String: [1, 2, 3, 4, 5, 6, 7, 8, 9, 10]\n",
    "Expected output: ('1', '2', '3', '4', '5', '6', '7', '8', '9', '10')"
   ]
  },
  {
   "cell_type": "code",
   "execution_count": 6,
   "id": "9aa44dd9",
   "metadata": {},
   "outputs": [
    {
     "data": {
      "text/plain": [
       "('1', '2', '3', '4', '5', '6', '7', '8', '9', '10')"
      ]
     },
     "execution_count": 6,
     "metadata": {},
     "output_type": "execute_result"
    }
   ],
   "source": [
    "numbers =  [1, 2, 3, 4, 5, 6, 7, 8, 9, 10]\n",
    "\n",
    "string_numbers = tuple(map(lambda x: str(x), numbers))\n",
    "\n",
    "string_numbers"
   ]
  },
  {
   "cell_type": "markdown",
   "id": "92308b85",
   "metadata": {},
   "source": [
    "### 4. Write a python program using reduce function to compute the product of a list containing numbers from 1 to 25."
   ]
  },
  {
   "cell_type": "code",
   "execution_count": 8,
   "id": "eaae0428",
   "metadata": {},
   "outputs": [
    {
     "name": "stdout",
     "output_type": "stream",
     "text": [
      "the product of the 1 to 25 is 15511210043330985984000000\n"
     ]
    }
   ],
   "source": [
    "from functools import reduce\n",
    "\n",
    "l1 = [i for i in range(1,26)]\n",
    "\n",
    "l2 = reduce(lambda x, y: x * y, l1)\n",
    "\n",
    "print(f\"the product of the 1 to 25 is {l2}\")"
   ]
  },
  {
   "cell_type": "markdown",
   "id": "0235e80b",
   "metadata": {},
   "source": [
    "### 5. Write a python program to filter the numbers in a given list that are divisible by 2 and 3 using the filter function.\n",
    "[2, 3, 6, 9, 27, 60, 90, 120, 55, 46]"
   ]
  },
  {
   "cell_type": "code",
   "execution_count": 9,
   "id": "9195b916",
   "metadata": {},
   "outputs": [
    {
     "name": "stdout",
     "output_type": "stream",
     "text": [
      "[6, 60, 90, 120]\n"
     ]
    }
   ],
   "source": [
    "from functools import reduce\n",
    "\n",
    "numbers = [2, 3, 6, 9, 27, 60, 90, 120, 55, 46]\n",
    "\n",
    "result = filter(lambda x: x % 2 == 0 and x % 3 == 0, numbers)\n",
    "\n",
    "print(list(result))"
   ]
  },
  {
   "cell_type": "markdown",
   "id": "77890264",
   "metadata": {},
   "source": [
    "### 6. Write a python program to find palindromes in the given list of strings using lambda and filter function.\n",
    "['python', 'php', 'aba', 'radar', 'level']"
   ]
  },
  {
   "cell_type": "code",
   "execution_count": null,
   "id": "7bfa75a5",
   "metadata": {},
   "outputs": [],
   "source": [
    "ll1 = "
   ]
  }
 ],
 "metadata": {
  "kernelspec": {
   "display_name": "Python 3 (ipykernel)",
   "language": "python",
   "name": "python3"
  },
  "language_info": {
   "codemirror_mode": {
    "name": "ipython",
    "version": 3
   },
   "file_extension": ".py",
   "mimetype": "text/x-python",
   "name": "python",
   "nbconvert_exporter": "python",
   "pygments_lexer": "ipython3",
   "version": "3.9.12"
  }
 },
 "nbformat": 4,
 "nbformat_minor": 5
}
