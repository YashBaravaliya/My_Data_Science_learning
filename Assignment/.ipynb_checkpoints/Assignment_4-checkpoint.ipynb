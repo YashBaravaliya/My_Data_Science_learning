{
 "cells": [
  {
   "cell_type": "markdown",
   "id": "77d22054",
   "metadata": {},
   "source": [
    "# Assignment:-4"
   ]
  },
  {
   "cell_type": "markdown",
   "id": "694d3039",
   "metadata": {},
   "source": [
    "### 1. Which keyword is used to create a function? Create a function to return a list of odd numbers in the  range of 1 to 25. "
   ]
  },
  {
   "cell_type": "markdown",
   "id": "1303e658",
   "metadata": {},
   "source": [
    "The keyword def is used to create a function in Python."
   ]
  },
  {
   "cell_type": "code",
   "execution_count": 1,
   "id": "383081a3",
   "metadata": {},
   "outputs": [
    {
     "name": "stdout",
     "output_type": "stream",
     "text": [
      "Odd numbers from 1 to 25: [1, 3, 5, 7, 9, 11, 13, 15, 17, 19, 21, 23, 25]\n"
     ]
    }
   ],
   "source": [
    "def get_odd_numbers():\n",
    "    odd_numbers = []\n",
    "    for i in range(1, 26):\n",
    "        if i % 2 != 0:\n",
    "            odd_numbers.append(i)\n",
    "    return odd_numbers\n",
    "\n",
    "odd_numbers = get_odd_numbers()\n",
    "print(\"Odd numbers from 1 to 25:\", odd_numbers)"
   ]
  },
  {
   "cell_type": "markdown",
   "id": "98ba29ca",
   "metadata": {},
   "source": [
    "### 2. Why *args and **kwargs is used in some functions? Create a function each for *args and **kwargs  to demonstrate their use"
   ]
  },
  {
   "cell_type": "markdown",
   "id": "56aa36b8",
   "metadata": {},
   "source": [
    "The syntax *args and **kwargs are used in functions to allow them to take a variable number of arguments.\n"
   ]
  },
  {
   "cell_type": "markdown",
   "id": "4db091cf",
   "metadata": {},
   "source": [
    "*args is used to pass a variable number of non-keyword (positional) arguments to a function. The asterisk (*) before the parameter name args allows the function to accept a variable number of positional arguments, which are then passed to args as a tuple."
   ]
  },
  {
   "cell_type": "code",
   "execution_count": 2,
   "id": "767edfec",
   "metadata": {},
   "outputs": [
    {
     "name": "stdout",
     "output_type": "stream",
     "text": [
      "24\n",
      "1680\n"
     ]
    }
   ],
   "source": [
    "def multiply(*args):\n",
    "    result = 1\n",
    "    for arg in args:\n",
    "        result *= arg\n",
    "    return result\n",
    "\n",
    "print(multiply(2, 3, 4))\n",
    "print(multiply(5, 6, 7, 8)) "
   ]
  },
  {
   "cell_type": "markdown",
   "id": "92290444",
   "metadata": {},
   "source": [
    "**kwargs is used to pass a variable number of keyword arguments to a function. The double asterisks (**) before the parameter name kwargs allows the function to accept a variable number of keyword arguments, which are then passed to kwargs as a dictionary."
   ]
  },
  {
   "cell_type": "code",
   "execution_count": 3,
   "id": "774fed18",
   "metadata": {},
   "outputs": [
    {
     "name": "stdout",
     "output_type": "stream",
     "text": [
      "name: yash\n",
      "age: 18\n",
      "country: India\n"
     ]
    }
   ],
   "source": [
    "def print_kwargs(**kwargs):\n",
    "    for key, value in kwargs.items():\n",
    "        print(f\"{key}: {value}\")\n",
    "\n",
    "print_kwargs(name=\"yash\", age=18, country=\"India\")"
   ]
  },
  {
   "cell_type": "markdown",
   "id": "f248333d",
   "metadata": {},
   "source": [
    "### 3. What is an iterator in python? Name the method used to initialise the iterator object and the method  used for iteration. Use these methods to print the first five elements of the given list [2, 4, 6, 8, 10, 12, 14,  16, 18, 20]. \n"
   ]
  },
  {
   "cell_type": "markdown",
   "id": "2335984f",
   "metadata": {},
   "source": [
    "An iterator in Python is an object that implements the iter and next methods, which allow it to be used in a for loop or with the next function to iterate through a collection of items.\n",
    "\n",
    "In Python, the iter method is used to initialize the iterator object, and the next method is used to retrieve the next item in the collection."
   ]
  },
  {
   "cell_type": "code",
   "execution_count": 4,
   "id": "b5119860",
   "metadata": {},
   "outputs": [
    {
     "name": "stdout",
     "output_type": "stream",
     "text": [
      "2\n",
      "4\n",
      "6\n",
      "8\n",
      "10\n"
     ]
    }
   ],
   "source": [
    "numbers = [2, 4, 6, 8, 10, 12, 14, 16, 18, 20]\n",
    "numbers_iter = iter(numbers)\n",
    "\n",
    "for i in range(5):\n",
    "    print(next(numbers_iter))\n"
   ]
  },
  {
   "cell_type": "markdown",
   "id": "86636cb1",
   "metadata": {},
   "source": [
    "### 4.  What is a generator function in python? Why yield keyword is used? Give an example of a generator  function. \n"
   ]
  },
  {
   "cell_type": "markdown",
   "id": "6de08389",
   "metadata": {},
   "source": [
    "A generator function is a convenient way to generate a sequence of values, as it allows us to iterate over the values without having to compute them all ahead of time. This is particularly useful when working with large data sets or when we need to perform an operation that may take a long time to complete."
   ]
  },
  {
   "cell_type": "code",
   "execution_count": 5,
   "id": "36983934",
   "metadata": {},
   "outputs": [
    {
     "name": "stdout",
     "output_type": "stream",
     "text": [
      "0\n",
      "1\n",
      "1\n",
      "2\n",
      "3\n",
      "5\n",
      "8\n",
      "13\n",
      "21\n",
      "34\n"
     ]
    }
   ],
   "source": [
    "def fibonacci_sequence():\n",
    "    a, b = 0, 1\n",
    "    while True:\n",
    "        yield a\n",
    "        a, b = b, a + b\n",
    "\n",
    "fibonacci = fibonacci_sequence()\n",
    "\n",
    "for i in range(10):\n",
    "    print(next(fibonacci))\n"
   ]
  },
  {
   "cell_type": "markdown",
   "id": "c5cd7a29",
   "metadata": {},
   "source": [
    "### 5. Create a generator function for prime numbers less than 1000. Use the next() method to print the  first 20 prime numbers. "
   ]
  },
  {
   "cell_type": "code",
   "execution_count": 23,
   "id": "faa2858a",
   "metadata": {},
   "outputs": [
    {
     "name": "stdout",
     "output_type": "stream",
     "text": [
      "2\n",
      "3\n",
      "5\n",
      "7\n",
      "11\n",
      "13\n",
      "17\n",
      "19\n",
      "23\n",
      "29\n",
      "31\n",
      "37\n",
      "41\n",
      "43\n",
      "47\n",
      "53\n",
      "59\n",
      "61\n",
      "67\n",
      "71\n"
     ]
    }
   ],
   "source": [
    "def prime_numbers(limit):\n",
    "    count = 0\n",
    "    number = 2\n",
    "    while count < limit:\n",
    "        for i in range(2, number):\n",
    "            if (number % i) == 0:\n",
    "                break\n",
    "        else:\n",
    "            count += 1\n",
    "            yield number\n",
    "        number += 1\n",
    "\n",
    "primes = prime_numbers(1000)\n",
    "\n",
    "count = 0\n",
    "while count < 20:\n",
    "    print(next(primes))\n",
    "    count += 1\n"
   ]
  },
  {
   "cell_type": "markdown",
   "id": "6e992177",
   "metadata": {},
   "source": [
    "### 6. Write a python program to print the first 10 Fibonacci numbers using a while loop."
   ]
  },
  {
   "cell_type": "code",
   "execution_count": 9,
   "id": "fd49cc02",
   "metadata": {},
   "outputs": [
    {
     "name": "stdout",
     "output_type": "stream",
     "text": [
      "0 1 1 2 3 5 8 13 21 34 "
     ]
    }
   ],
   "source": [
    "number = 10\n",
    "i=0\n",
    "a=0\n",
    "b=1\n",
    "while i<10:\n",
    "    \n",
    "    print(a,end=\" \")\n",
    "    a,b=b,a+b\n",
    "    i+=1"
   ]
  },
  {
   "cell_type": "markdown",
   "id": "7597f137",
   "metadata": {},
   "source": [
    "### 7. Write a List Comprehension to iterate through the given string: ‘pwskills’. \n",
    "Expected output: ['p', 'w', 's', 'k', 'i', 'l', 'l', 's']  \n"
   ]
  },
  {
   "cell_type": "code",
   "execution_count": 14,
   "id": "e75c7947",
   "metadata": {},
   "outputs": [
    {
     "data": {
      "text/plain": [
       "['p', 'w', 's', 'k', 'i', 'l', 'l', 's']"
      ]
     },
     "execution_count": 14,
     "metadata": {},
     "output_type": "execute_result"
    }
   ],
   "source": [
    "string = \"pwskills\"\n",
    "l1 = [i for i in string]\n",
    "l1"
   ]
  },
  {
   "cell_type": "markdown",
   "id": "afa04732",
   "metadata": {},
   "source": [
    "### 8. Write a python program to check whether a given number is Palindrome or not using a while loop. \n"
   ]
  },
  {
   "cell_type": "code",
   "execution_count": 13,
   "id": "de99b3ef",
   "metadata": {},
   "outputs": [
    {
     "name": "stdout",
     "output_type": "stream",
     "text": [
      "Enter any number and i will tell you you entered number is palindrome or not121\n",
      "121 is a palindrome.\n"
     ]
    }
   ],
   "source": [
    "def is_palindrome(number):\n",
    "    original_number = number\n",
    "    reverse_number = 0\n",
    "    while number > 0:\n",
    "        remainder = number % 10\n",
    "        reverse_number = reverse_number * 10 + remainder\n",
    "        number //= 10\n",
    "    return original_number == reverse_number\n",
    "\n",
    "number = int(input(\"Enter any number and i will tell you you entered number is palindrome or not\"))\n",
    "if is_palindrome(number):\n",
    "    print(f\"{number} is a palindrome.\")\n",
    "else:\n",
    "    print(f\"{number} is not a palindrome.\")\n"
   ]
  },
  {
   "cell_type": "markdown",
   "id": "943fbd13",
   "metadata": {},
   "source": [
    "### 9. Write a code to print odd numbers from 1 to 100 using list comprehension. "
   ]
  },
  {
   "cell_type": "code",
   "execution_count": 22,
   "id": "ce9c28ac",
   "metadata": {},
   "outputs": [
    {
     "data": {
      "text/plain": [
       "[1,\n",
       " 3,\n",
       " 5,\n",
       " 7,\n",
       " 9,\n",
       " 11,\n",
       " 13,\n",
       " 15,\n",
       " 17,\n",
       " 19,\n",
       " 21,\n",
       " 23,\n",
       " 25,\n",
       " 27,\n",
       " 29,\n",
       " 31,\n",
       " 33,\n",
       " 35,\n",
       " 37,\n",
       " 39,\n",
       " 41,\n",
       " 43,\n",
       " 45,\n",
       " 47,\n",
       " 49,\n",
       " 51,\n",
       " 53,\n",
       " 55,\n",
       " 57,\n",
       " 59,\n",
       " 61,\n",
       " 63,\n",
       " 65,\n",
       " 67,\n",
       " 69,\n",
       " 71,\n",
       " 73,\n",
       " 75,\n",
       " 77,\n",
       " 79,\n",
       " 81,\n",
       " 83,\n",
       " 85,\n",
       " 87,\n",
       " 89,\n",
       " 91,\n",
       " 93,\n",
       " 95,\n",
       " 97,\n",
       " 99]"
      ]
     },
     "execution_count": 22,
     "metadata": {},
     "output_type": "execute_result"
    }
   ],
   "source": [
    "l1 = [i for i in range(1,101)]\n",
    "l2 = [i for i in l1  if i%2!=0]\n",
    "l2"
   ]
  },
  {
   "cell_type": "markdown",
   "id": "961888b0",
   "metadata": {},
   "source": [
    " "
   ]
  },
  {
   "cell_type": "markdown",
   "id": "d843d8aa",
   "metadata": {},
   "source": [
    " "
   ]
  },
  {
   "cell_type": "markdown",
   "id": "81710129",
   "metadata": {},
   "source": [
    " "
   ]
  }
 ],
 "metadata": {
  "kernelspec": {
   "display_name": "Python 3 (ipykernel)",
   "language": "python",
   "name": "python3"
  },
  "language_info": {
   "codemirror_mode": {
    "name": "ipython",
    "version": 3
   },
   "file_extension": ".py",
   "mimetype": "text/x-python",
   "name": "python",
   "nbconvert_exporter": "python",
   "pygments_lexer": "ipython3",
   "version": "3.9.12"
  }
 },
 "nbformat": 4,
 "nbformat_minor": 5
}
