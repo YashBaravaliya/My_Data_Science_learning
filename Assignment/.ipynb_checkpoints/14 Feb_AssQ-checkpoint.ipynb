{
 "cells": [
  {
   "cell_type": "markdown",
   "id": "20286b1d",
   "metadata": {},
   "source": [
    "### Q1. What is multithreading in python? Why is it used? Name the module used to handle threads in python."
   ]
  },
  {
   "cell_type": "markdown",
   "id": "7becae34",
   "metadata": {},
   "source": [
    "class FileFondError(Exception):\n",
    "\n",
    "Above code are used to create a custome Exception, so FileFondError is custom class name, you can use as you need but 'Exception' is a base class in python. without Exception base class we cant create any custom Exception."
   ]
  },
  {
   "cell_type": "code",
   "execution_count": 1,
   "id": "7bd1cba6",
   "metadata": {},
   "outputs": [],
   "source": [
    "import threading        # threading module"
   ]
  },
  {
   "cell_type": "markdown",
   "id": "202864ca",
   "metadata": {},
   "source": [
    "### Q2. Why threading module used? Write the use of the following functions:"
   ]
  },
  {
   "cell_type": "markdown",
   "id": "00aa4a9d",
   "metadata": {},
   "source": [
    "1. activeCount()\n",
    "2. currentThread()\n",
    "3. enumerate()"
   ]
  },
  {
   "cell_type": "markdown",
   "id": "f8f078c6",
   "metadata": {},
   "source": [
    "threading is a module used to do multiple task on same time. threading creates number of thread to execute task.\n",
    "\n",
    "threading.activeCount() : Return the number of Thread objects currently working.\n",
    "\n",
    "threading.currentThread() : Return current thread ID and his name, you can get name by using \n",
    "\n",
    "threading.current_thread().getName()\n",
    "\n",
    "threading.enumerate() : The enumerate() function returns a list of all currently active Thread objects.\n"
   ]
  },
  {
   "cell_type": "code",
   "execution_count": 2,
   "id": "98f86c91",
   "metadata": {},
   "outputs": [
    {
     "name": "stdout",
     "output_type": "stream",
     "text": [
      "Thread is runningThread is running\n",
      "Hi\n"
     ]
    },
    {
     "data": {
      "text/plain": [
       "7"
      ]
     },
     "execution_count": 2,
     "metadata": {},
     "output_type": "execute_result"
    },
    {
     "name": "stdout",
     "output_type": "stream",
     "text": [
      "\n"
     ]
    }
   ],
   "source": [
    "from threading import Thread\n",
    "def runThr():\n",
    "    print('Thread is running')\n",
    "t = Thread(target=runThr)\n",
    "t1 = Thread(target=runThr)\n",
    "t.start()\n",
    "t1.start()\n",
    "print('Hi')\n",
    "threading.activeCount()"
   ]
  },
  {
   "cell_type": "code",
   "execution_count": 3,
   "id": "c99d5eab",
   "metadata": {},
   "outputs": [
    {
     "name": "stdout",
     "output_type": "stream",
     "text": [
      "Thread is running\n",
      "<Thread(Thread-7, started 24780)>\n",
      "Thread is running\n",
      "<Thread(Thread-8, started 6784)>\n",
      "Hi\n"
     ]
    },
    {
     "data": {
      "text/plain": [
       "<_MainThread(MainThread, started 19308)>"
      ]
     },
     "execution_count": 3,
     "metadata": {},
     "output_type": "execute_result"
    }
   ],
   "source": [
    "from threading import Thread\n",
    "def runThr():\n",
    "    print('Thread is running')\n",
    "    print(threading.currentThread())\n",
    "    \n",
    "    \n",
    "t = Thread(target=runThr)\n",
    "t1 = Thread(target=runThr)\n",
    "t.start()\n",
    "t1.start()\n",
    "print('Hi')\n",
    "threading.currentThread()"
   ]
  },
  {
   "cell_type": "code",
   "execution_count": 4,
   "id": "c25d5433",
   "metadata": {},
   "outputs": [
    {
     "name": "stdout",
     "output_type": "stream",
     "text": [
      "<_MainThread(MainThread, started 19308)> \n",
      "\n",
      "<Thread(IOPub, started daemon 23840)> \n",
      "\n",
      "<Heartbeat(Heartbeat, started daemon 12712)> \n",
      "\n",
      "<ControlThread(Control, started daemon 23012)> \n",
      "\n",
      "<HistorySavingThread(IPythonHistorySavingThread, started 8456)> \n",
      "\n",
      "<ParentPollerWindows(Thread-4, started daemon 18492)> \n",
      "\n"
     ]
    }
   ],
   "source": [
    "result = threading.enumerate()\n",
    "for i in result:\n",
    "    print(i,'\\n')\n",
    "    "
   ]
  },
  {
   "cell_type": "markdown",
   "id": "d2923cf3",
   "metadata": {},
   "source": [
    "### Q3. Explain the following functions:\n",
    "- run()\n",
    "- start()\n",
    "- join()\n",
    "- isAlive()"
   ]
  },
  {
   "cell_type": "markdown",
   "id": "ec1563bb",
   "metadata": {},
   "source": [
    "1. run() : Every thread will run this method when thread is started. We can override this method and write our own code as body of the method. A thread will terminate automatically when it comes out of the run() Method.\n",
    "2. start() : This function used to start a thread when thread is created.\n",
    "3. join() : This function used to hold next thread untill complete current theread execution.\n",
    "4. isAlive() : This function replace with is_alive() function, It is used to check whether a thread is currently running or not."
   ]
  },
  {
   "cell_type": "markdown",
   "id": "c100d68e",
   "metadata": {},
   "source": [
    "### Q4. Write a python program to create two threads. Thread one must print the list of squares and thread two must print the list of cubes."
   ]
  },
  {
   "cell_type": "code",
   "execution_count": 5,
   "id": "8fa6133e",
   "metadata": {},
   "outputs": [],
   "source": [
    "List = [2,3,4,5,5,6,7,4]"
   ]
  },
  {
   "cell_type": "code",
   "execution_count": 6,
   "id": "9e691c2d",
   "metadata": {},
   "outputs": [
    {
     "name": "stdout",
     "output_type": "stream",
     "text": [
      "[4, 9, 16, 25, 25, 36, 49, 16]\n"
     ]
    }
   ],
   "source": [
    "import threading\n",
    "square = []\n",
    "def test(a):\n",
    "    square.append(a**2)\n",
    "\n",
    "first_thread = [threading.Thread(target=test , args=(i,) )for i in List]\n",
    "for t in first_thread : \n",
    "    t.start()\n",
    "print(square)"
   ]
  },
  {
   "cell_type": "code",
   "execution_count": 7,
   "id": "cd35867c",
   "metadata": {},
   "outputs": [
    {
     "name": "stdout",
     "output_type": "stream",
     "text": [
      "[8, 27, 64, 125, 125, 216, 343, 64]\n"
     ]
    }
   ],
   "source": [
    "import threading\n",
    "cube = []\n",
    "def test(a):\n",
    "    cube.append(a**3)\n",
    "\n",
    "second_thread = [threading.Thread(target=test , args=(i,) )for i in List]\n",
    "for t in second_thread : \n",
    "    t.start()\n",
    "print(cube)"
   ]
  },
  {
   "cell_type": "code",
   "execution_count": null,
   "id": "e4ba57ba",
   "metadata": {},
   "outputs": [],
   "source": []
  }
 ],
 "metadata": {
  "kernelspec": {
   "display_name": "Python 3 (ipykernel)",
   "language": "python",
   "name": "python3"
  },
  "language_info": {
   "codemirror_mode": {
    "name": "ipython",
    "version": 3
   },
   "file_extension": ".py",
   "mimetype": "text/x-python",
   "name": "python",
   "nbconvert_exporter": "python",
   "pygments_lexer": "ipython3",
   "version": "3.9.12"
  }
 },
 "nbformat": 4,
 "nbformat_minor": 5
}
