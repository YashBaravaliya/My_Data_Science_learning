{
 "cells": [
  {
   "cell_type": "markdown",
   "id": "2f245812",
   "metadata": {},
   "source": [
    "## 1.What is Abstraction in OOps? Explain with an example."
   ]
  },
  {
   "cell_type": "markdown",
   "id": "93947a51",
   "metadata": {},
   "source": [
    "Abstraction is a key concept in Object-Oriented Programming (OOP) that allows programmers to focus on the essential features of an object while hiding its implementation details. In Python, abstraction is achieved through the use of classes, which encapsulate data and behavior in a single unit."
   ]
  },
  {
   "cell_type": "code",
   "execution_count": 1,
   "id": "4d8e864b",
   "metadata": {},
   "outputs": [],
   "source": [
    "class Animal:\n",
    "    def __init__(self, name, sound):\n",
    "        self.name = name\n",
    "        self.sound = sound\n",
    "        \n",
    "    def make_sound(self):\n",
    "        raise NotImplementedError(\"Subclass must implement abstract method\")\n"
   ]
  },
  {
   "cell_type": "code",
   "execution_count": 2,
   "id": "cff7c9f0",
   "metadata": {},
   "outputs": [],
   "source": [
    "class Dog(Animal):\n",
    "    def make_sound(self):\n",
    "        print(f\"{self.name} barks\")\n",
    "        \n",
    "class Cat(Animal):\n",
    "    def make_sound(self):\n",
    "        print(f\"{self.name} meows\")\n"
   ]
  },
  {
   "cell_type": "code",
   "execution_count": 3,
   "id": "1b58438f",
   "metadata": {},
   "outputs": [
    {
     "name": "stdout",
     "output_type": "stream",
     "text": [
      "Fido barks\n",
      "Whiskers meows\n"
     ]
    }
   ],
   "source": [
    "dog = Dog(\"Fido\", \"woof\")\n",
    "cat = Cat(\"Whiskers\", \"purr\")\n",
    "\n",
    "dog.make_sound() \n",
    "cat.make_sound() "
   ]
  },
  {
   "cell_type": "markdown",
   "id": "9f01d047",
   "metadata": {},
   "source": [
    "## 2.Differentiate between Abstraction and Encapsulation. Explain with an example."
   ]
  },
  {
   "cell_type": "code",
   "execution_count": null,
   "id": "867b5d92",
   "metadata": {},
   "outputs": [],
   "source": []
  }
 ],
 "metadata": {
  "kernelspec": {
   "display_name": "Python 3 (ipykernel)",
   "language": "python",
   "name": "python3"
  },
  "language_info": {
   "codemirror_mode": {
    "name": "ipython",
    "version": 3
   },
   "file_extension": ".py",
   "mimetype": "text/x-python",
   "name": "python",
   "nbconvert_exporter": "python",
   "pygments_lexer": "ipython3",
   "version": "3.9.12"
  }
 },
 "nbformat": 4,
 "nbformat_minor": 5
}
