{
 "cells": [
  {
   "cell_type": "markdown",
   "id": "d33ed629",
   "metadata": {},
   "source": [
    "### 1. Create a vehicle class with an init method having instance variables as name_of_vehicle, max_speed and average_of_vehicle."
   ]
  },
  {
   "cell_type": "code",
   "execution_count": 1,
   "id": "8ba375ed",
   "metadata": {},
   "outputs": [],
   "source": [
    "class vehicle:\n",
    "    \n",
    "    def __init__(self,name_of_vehicle,max_speed,average_of_vehicle):\n",
    "        \n",
    "        self.name_of_vehicle = name_of_vehicle\n",
    "        self.max_speed = max_speed\n",
    "        self.average_of_vehicle = average_of_vehicle"
   ]
  },
  {
   "cell_type": "markdown",
   "id": "4641202e",
   "metadata": {},
   "source": [
    "### 2.  Create a child class car from the vehicle class created in Que 1, which will inherit the vehicle class. Create a method named seating_capacity which takes capacity as an argument and returns the name of the vehicle and its seating capacity"
   ]
  },
  {
   "cell_type": "code",
   "execution_count": 15,
   "id": "b101c983",
   "metadata": {},
   "outputs": [],
   "source": [
    "class car(vehicle):\n",
    "    \n",
    "    def seating_capacity(self,capacity):\n",
    "#         capacity = capacity\n",
    "        return self.name_of_vehicle ,capacity"
   ]
  },
  {
   "cell_type": "code",
   "execution_count": 16,
   "id": "d2f58011",
   "metadata": {},
   "outputs": [
    {
     "data": {
      "text/plain": [
       "('Baleno', 4)"
      ]
     },
     "execution_count": 16,
     "metadata": {},
     "output_type": "execute_result"
    }
   ],
   "source": [
    "mycar = car('Baleno',100,25)\n",
    "mycar.seating_capacity(4)"
   ]
  },
  {
   "cell_type": "markdown",
   "id": "32657424",
   "metadata": {},
   "source": [
    "### 3. What is multiple inheritance? Write a python code to demonstrate multiple inheritance."
   ]
  },
  {
   "cell_type": "markdown",
   "id": "cf3053b5",
   "metadata": {},
   "source": [
    "Multiple Inheritence :- inheriting from multiple classes to one."
   ]
  },
  {
   "cell_type": "code",
   "execution_count": 17,
   "id": "6620079c",
   "metadata": {},
   "outputs": [
    {
     "name": "stdout",
     "output_type": "stream",
     "text": [
      "Father genes\n",
      "Mother genes\n"
     ]
    }
   ],
   "source": [
    "class p1:\n",
    "    def f1(self):\n",
    "        return'Father genes'\n",
    "class p2:\n",
    "    def f2(self):\n",
    "        return'Mother genes'\n",
    "class child(p1,p2):\n",
    "    pass\n",
    "obj1 = child()\n",
    "print(obj1.f1())\n",
    "print(obj1.f2())"
   ]
  },
  {
   "cell_type": "markdown",
   "id": "7893322a",
   "metadata": {},
   "source": [
    "### 4. What are getter and setter in python? Create a class and create a getter and a setter method in this class"
   ]
  },
  {
   "cell_type": "markdown",
   "id": "97438e15",
   "metadata": {},
   "source": [
    "A getter - to access the value of the attribute.\n",
    "A setter - to set the value of the attribute.\n",
    "They are mostly used in the cases when the attribute is set private and when we dont't want the user to make unnecessary \n",
    "- getter is used accces the value of that private atribute. If we see , we can also do that without getter method but then we have to call the function() to access it \n",
    "but with getter we can use the name of the function as a variable \n",
    "- setter is used change the value of that private atribute. here we can apply the conditions so that the user is not able to give any inappropriate value to the attribute.\n",
    "  If we see , we can also do that without setter method but then we have to call the function() to access it \n",
    "  but with getter we can use the name of the function as a variable."
   ]
  },
  {
   "cell_type": "code",
   "execution_count": 18,
   "id": "1348349f",
   "metadata": {},
   "outputs": [],
   "source": [
    "class open_bank_account:\n",
    "    \n",
    "    def __init__(self,name):\n",
    "        self.__balance = 0 \n",
    "        self.name = name\n",
    "        print('account apened successfuly, Current Balce = Rs 0')\n",
    "    \n",
    "    # Getter Method\n",
    "    @property   \n",
    "    def balance(self):\n",
    "        print( 'Rs', self.__balance)\n",
    "    \n",
    "    @balance.setter \n",
    "    def deposit(self,amount):\n",
    "        if amount <= 100:\n",
    "            print('Error - Min. value for deposit should be Rs 100')\n",
    "        else:\n",
    "            self.__balance += amount\n",
    "            print(f'Rs {amount} deposited successfully in your bank account ')\n",
    "    \n",
    "    @balance.setter\n",
    "    def withdraw(self,amount):\n",
    "        if amount > self.__balance:\n",
    "            print('Error - Not enough Balance in your account')\n",
    "        else:\n",
    "            self.__balance -= amount\n",
    "            print(f'Rs {amount} withdrawn succesfully')"
   ]
  },
  {
   "cell_type": "code",
   "execution_count": 21,
   "id": "0048cb9b",
   "metadata": {},
   "outputs": [
    {
     "name": "stdout",
     "output_type": "stream",
     "text": [
      "account apened successfuly, Current Balce = Rs 0\n"
     ]
    }
   ],
   "source": [
    "new_account = open_bank_account(\"yash\")"
   ]
  },
  {
   "cell_type": "code",
   "execution_count": 23,
   "id": "e7097acd",
   "metadata": {},
   "outputs": [
    {
     "name": "stdout",
     "output_type": "stream",
     "text": [
      "Rs 10000 deposited successfully in your bank account \n"
     ]
    }
   ],
   "source": [
    "new_account.deposit = 10000"
   ]
  },
  {
   "cell_type": "code",
   "execution_count": 25,
   "id": "0d5b8fcd",
   "metadata": {},
   "outputs": [
    {
     "name": "stdout",
     "output_type": "stream",
     "text": [
      "Rs 200 withdrawn succesfully\n"
     ]
    }
   ],
   "source": [
    "new_account.withdraw = 200"
   ]
  },
  {
   "cell_type": "code",
   "execution_count": 26,
   "id": "eb1f5ef8",
   "metadata": {},
   "outputs": [
    {
     "name": "stdout",
     "output_type": "stream",
     "text": [
      "Rs 9800\n"
     ]
    }
   ],
   "source": [
    "new_account.balance"
   ]
  },
  {
   "cell_type": "markdown",
   "id": "92aa3e2c",
   "metadata": {},
   "source": [
    "### 5.What is method overriding in python? Write a python code to demonstrate method overriding."
   ]
  },
  {
   "cell_type": "markdown",
   "id": "b79a25d8",
   "metadata": {},
   "source": [
    "- Method overriding is an ability of any object-oriented programming language that allows a subclass or child class to provide a specific implementation of a \n",
    "  method that is already provided by one of its super-classes or parent classes. \n",
    "- When a method in a subclass has the same name, same parameters or signature and \n",
    "  same return type(or sub-type) as a method in its super-class, then the method in the"
   ]
  },
  {
   "cell_type": "code",
   "execution_count": 27,
   "id": "fcac1e8a",
   "metadata": {},
   "outputs": [],
   "source": [
    "class Parent():\n",
    "      \n",
    "    def __init__(self):\n",
    "        self.value = \"Inside Parent\"\n",
    "          \n",
    "\n",
    "    def show(self):\n",
    "        print(self.value)\n",
    "          \n",
    "class Child(Parent):\n",
    "      \n",
    "    def __init__(self):\n",
    "        self.value = \"Inside Child\"\n",
    "          \n",
    "    def show(self):\n",
    "        print(self.value)"
   ]
  },
  {
   "cell_type": "code",
   "execution_count": 42,
   "id": "931d32eb",
   "metadata": {},
   "outputs": [],
   "source": [
    "c1 = Parent()\n",
    "c2 = Child()"
   ]
  },
  {
   "cell_type": "code",
   "execution_count": 40,
   "id": "d830eab1",
   "metadata": {},
   "outputs": [
    {
     "name": "stdout",
     "output_type": "stream",
     "text": [
      "Inside Parent\n"
     ]
    }
   ],
   "source": [
    "c1.show()"
   ]
  },
  {
   "cell_type": "code",
   "execution_count": 48,
   "id": "3fad71b6",
   "metadata": {},
   "outputs": [
    {
     "name": "stdout",
     "output_type": "stream",
     "text": [
      "Inside Child\n"
     ]
    }
   ],
   "source": [
    "c2.show()"
   ]
  },
  {
   "cell_type": "code",
   "execution_count": null,
   "id": "8d638baa",
   "metadata": {},
   "outputs": [],
   "source": []
  },
  {
   "cell_type": "code",
   "execution_count": null,
   "id": "186559af",
   "metadata": {},
   "outputs": [],
   "source": []
  }
 ],
 "metadata": {
  "kernelspec": {
   "display_name": "Python 3 (ipykernel)",
   "language": "python",
   "name": "python3"
  },
  "language_info": {
   "codemirror_mode": {
    "name": "ipython",
    "version": 3
   },
   "file_extension": ".py",
   "mimetype": "text/x-python",
   "name": "python",
   "nbconvert_exporter": "python",
   "pygments_lexer": "ipython3",
   "version": "3.9.12"
  }
 },
 "nbformat": 4,
 "nbformat_minor": 5
}
