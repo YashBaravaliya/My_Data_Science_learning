{
 "cells": [
  {
   "cell_type": "markdown",
   "id": "40e6b065",
   "metadata": {},
   "source": [
    "# Assignment:-3"
   ]
  },
  {
   "cell_type": "markdown",
   "id": "b27faec3",
   "metadata": {},
   "source": [
    "### 1. Explain with an example each when to use a for loop and a while loop. "
   ]
  },
  {
   "cell_type": "markdown",
   "id": "1c620c77",
   "metadata": {},
   "source": [
    "The for loop in Python is used to iterate over a sequence (such as a list, tuple, or string) and execute a block of code for each item in the sequence. The for loop is an exit controlled loop, which means that the loop will continue to run until all items in the sequence have been processed."
   ]
  },
  {
   "cell_type": "code",
   "execution_count": 1,
   "id": "3abafecb",
   "metadata": {},
   "outputs": [
    {
     "name": "stdout",
     "output_type": "stream",
     "text": [
      "apple\n",
      "banana\n",
      "cherry\n"
     ]
    }
   ],
   "source": [
    "fruits = ['apple', 'banana', 'cherry']\n",
    "\n",
    "for fruit in fruits:\n",
    "    print(fruit)"
   ]
  },
  {
   "cell_type": "markdown",
   "id": "2d08416c",
   "metadata": {},
   "source": [
    "On the other hand, the while loop in Python is used to repeatedly execute a block of code as long as the condition specified in the while statement remains true. The loop continues to run until the condition is no longer true."
   ]
  },
  {
   "cell_type": "code",
   "execution_count": 2,
   "id": "dc8fb542",
   "metadata": {},
   "outputs": [
    {
     "name": "stdout",
     "output_type": "stream",
     "text": [
      "1\n",
      "2\n",
      "3\n",
      "4\n",
      "5\n"
     ]
    }
   ],
   "source": [
    "count = 1\n",
    "\n",
    "while count <= 5:\n",
    "    print(count)\n",
    "    count += 1"
   ]
  },
  {
   "cell_type": "markdown",
   "id": "0f7b9fd9",
   "metadata": {},
   "source": [
    " ### 2. Write a python program to print the sum and product of the first 10 natural numbers using for  and while loop. "
   ]
  },
  {
   "cell_type": "code",
   "execution_count": 3,
   "id": "405613b6",
   "metadata": {},
   "outputs": [
    {
     "name": "stdout",
     "output_type": "stream",
     "text": [
      "the sum of first 10 nature number is 55\n",
      "the sum of first 10 nature number is 3628800\n"
     ]
    }
   ],
   "source": [
    "# using for loop\n",
    "sum_of_nature_number=0\n",
    "product_of_nature_number = 1\n",
    "for i in range(1,11):\n",
    "    sum_of_nature_number +=i\n",
    "    product_of_nature_number *=i\n",
    "print(f\"the sum of first 10 nature number is {sum_of_nature_number}\")\n",
    "print(f\"the sum of first 10 nature number is {product_of_nature_number}\")"
   ]
  },
  {
   "cell_type": "code",
   "execution_count": 4,
   "id": "75963c55",
   "metadata": {},
   "outputs": [
    {
     "name": "stdout",
     "output_type": "stream",
     "text": [
      "the sum of first 10 nature number is 55\n",
      "the sum of first 10 nature number is 3628800\n"
     ]
    }
   ],
   "source": [
    "# using while loop\n",
    "i = 1\n",
    "sum_of_nature_number=0\n",
    "product_of_nature_number = 1\n",
    "while i<=10:\n",
    "    sum_of_nature_number +=i\n",
    "    product_of_nature_number *=i\n",
    "    i+=1\n",
    "print(f\"the sum of first 10 nature number is {sum_of_nature_number}\")\n",
    "print(f\"the sum of first 10 nature number is {product_of_nature_number}\")"
   ]
  },
  {
   "cell_type": "markdown",
   "id": "c4566201",
   "metadata": {},
   "source": [
    "###  3. Create a python program to compute the electricity bill for a household. The per-unit charges in rupees are as follows: For the first 100 units, the user will be charged Rs. 4.5 per  unit, for the next 100 units, the user will be charged Rs. 6 per unit, and for the next 100 units, the user will  be charged Rs. 10 per unit, After 300 units and above the user will be charged Rs. 20 per unit. \n",
    "\n",
    "You are required to take the units of electricity consumed in a month from the user as input. \n",
    "Your program must pass this test case: when the unit of electricity consumed by the user in a month is  310, the total electricity bill should be 2250. \n"
   ]
  },
  {
   "cell_type": "code",
   "execution_count": 5,
   "id": "0af96533",
   "metadata": {},
   "outputs": [
    {
     "name": "stdout",
     "output_type": "stream",
     "text": [
      "Enter the number of units consumed: 310\n",
      "The total electricity bill is: Rs.2250.0\n"
     ]
    }
   ],
   "source": [
    " def calculate_bill(units):\n",
    "    bill = 0\n",
    "    if units <= 100:\n",
    "        bill = units * 4.5\n",
    "    elif units <= 200:\n",
    "        bill = 100 * 4.5 + (units - 100) * 6\n",
    "    elif units <= 300:\n",
    "        bill = 100 * 4.5 + 100 * 6 + (units - 200) * 10\n",
    "    else:\n",
    "        bill = 100 * 4.5 + 100 * 6 + 100 * 10 + (units - 300) * 20\n",
    "    return bill\n",
    "\n",
    "units = int(input(\"Enter the number of units consumed: \"))\n",
    "bill = calculate_bill(units)\n",
    "print(f\"The total electricity bill is: Rs.{bill}\")"
   ]
  },
  {
   "cell_type": "markdown",
   "id": "8dd6fac1",
   "metadata": {},
   "source": [
    "### 4. Create a list of numbers from 1 to 100. Use for loop and while loop to calculate the cube of each  number and if the cube of that number is divisible by 4 or 5 then append that number in a list and print  that list. "
   ]
  },
  {
   "cell_type": "code",
   "execution_count": 6,
   "id": "1d7e2568",
   "metadata": {},
   "outputs": [
    {
     "name": "stdout",
     "output_type": "stream",
     "text": [
      "[6, 12, 18, 24, 30, 36, 42, 48, 54, 60, 66, 72, 78, 84, 90, 96, 102, 108, 114, 120, 126, 132, 138, 144, 150, 156, 162, 168, 174, 180, 186, 192, 198, 204, 210, 216, 222, 228, 234, 240, 246, 252, 258, 264, 270, 276, 282, 288, 294, 300]\n"
     ]
    }
   ],
   "source": [
    "l1 = list(range(1,101))\n",
    "l2=[]\n",
    "l3 = []\n",
    "\n",
    "for i in l1:\n",
    "    l2.append(i**3)\n",
    "    if i*3 %4 ==0 or i*3%6==0:\n",
    "        l3.append(i*3)\n",
    "print(l3)"
   ]
  },
  {
   "cell_type": "markdown",
   "id": "d5975de8",
   "metadata": {},
   "source": [
    "### 5. Write a program to filter count vowels in the below-given string. \n",
    "string = \"I want to become a data scientist\" \n"
   ]
  },
  {
   "cell_type": "code",
   "execution_count": 7,
   "id": "4d62bf13",
   "metadata": {},
   "outputs": [
    {
     "name": "stdout",
     "output_type": "stream",
     "text": [
      "12\n"
     ]
    }
   ],
   "source": [
    "string = \"I want to become a data scientist\"\n",
    "string = string.lower()\n",
    "vowles = ['a','e','i','o','u']\n",
    "count=0\n",
    "\n",
    "for i in string:\n",
    "    if i in vowles:\n",
    "        count+=1\n",
    "        \n",
    "print(count)"
   ]
  },
  {
   "cell_type": "markdown",
   "id": "9d5bd42d",
   "metadata": {},
   "source": []
  }
 ],
 "metadata": {
  "kernelspec": {
   "display_name": "Python 3 (ipykernel)",
   "language": "python",
   "name": "python3"
  },
  "language_info": {
   "codemirror_mode": {
    "name": "ipython",
    "version": 3
   },
   "file_extension": ".py",
   "mimetype": "text/x-python",
   "name": "python",
   "nbconvert_exporter": "python",
   "pygments_lexer": "ipython3",
   "version": "3.9.12"
  }
 },
 "nbformat": 4,
 "nbformat_minor": 5
}
