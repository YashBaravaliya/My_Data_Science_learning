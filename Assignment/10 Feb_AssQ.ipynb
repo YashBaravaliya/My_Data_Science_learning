{
 "cells": [
  {
   "cell_type": "markdown",
   "id": "62924229",
   "metadata": {},
   "source": [
    "### 1. Which function is used to open a file? What are the different modes of opening a file? Explain each mode of file opening"
   ]
  },
  {
   "cell_type": "markdown",
   "id": "67875b08",
   "metadata": {},
   "source": [
    "open() function used to open a file\n",
    "\n",
    "there is some deffere mode :\n",
    "\n",
    "- 'r' open for reading, you cant write in this mode\n",
    "- 'w' open for writing, remove the file first, you cant read file in this write mode\n",
    "- 'x' create a new file and open it for writing\n",
    "- 'a' open for writing, appending/add to the end of the file if it exists\n",
    "- 'b' binary mode(binary files like image, audio, video .etc)"
   ]
  },
  {
   "cell_type": "markdown",
   "id": "cb404715",
   "metadata": {},
   "source": [
    "### 2. Why close() function is used? Why is it important to close a file?"
   ]
  },
  {
   "cell_type": "markdown",
   "id": "98e50e42",
   "metadata": {},
   "source": [
    "filename.close() : used to close current open file, If you dont do this, you are not able do other pperformance with file.\n",
    "\n",
    "for example. \n",
    "If you open your file in write mode and now you want to read you existing file so you have to do first of all close() and then open your file in read mode and read your file"
   ]
  },
  {
   "cell_type": "markdown",
   "id": "0364a7bb",
   "metadata": {},
   "source": [
    "### 3. Write a python program to create a text file. Write 'I want to become a Data Scientist' in that file. Then close the file. Open this file and read the content of the file."
   ]
  },
  {
   "cell_type": "code",
   "execution_count": 2,
   "id": "6569f764",
   "metadata": {},
   "outputs": [],
   "source": [
    "file = open('test.txt','w')\n",
    "file.write(\"I want to become a Data Scientist\")\n",
    "file.close()"
   ]
  },
  {
   "cell_type": "code",
   "execution_count": 6,
   "id": "b9d0335a",
   "metadata": {},
   "outputs": [
    {
     "name": "stdout",
     "output_type": "stream",
     "text": [
      "I want to become a Data Scientist\n"
     ]
    }
   ],
   "source": [
    "with open('test.txt','r') as f:\n",
    "    print(f.read())"
   ]
  },
  {
   "cell_type": "markdown",
   "id": "ed426cba",
   "metadata": {},
   "source": [
    "### 4. Explain the following with python code: read(), readline() and readlines()."
   ]
  },
  {
   "cell_type": "markdown",
   "id": "ffd327c4",
   "metadata": {},
   "source": [
    "- read(): This function used to read all data from file.\n",
    "- readline(): This function used to read data from file line by line one time one line execute only.\n",
    "- readlines(): This function used to read all data from existing file."
   ]
  },
  {
   "cell_type": "code",
   "execution_count": 7,
   "id": "74ebf802",
   "metadata": {},
   "outputs": [],
   "source": [
    "file = open('test.txt','w')\n",
    "file.write(\"\"\"Lorem Ipsum is simply dummy text of the printing and \\n\n",
    "              typesetting industry. Lorem Ipsum has been the industry's \\n\n",
    "              standard dummy text ever since the 1500s, when an unknown \\n\n",
    "              printer took a galley of type and scrambled it to make a type \\n\n",
    "              specimen book. It has survived not only five centuries, but also the \\n\n",
    "              leap into electronic typesetting, remaining essentially unchanged. \\n\n",
    "              It was popularised in the 1960s with the release of Letraset sheets \"\"\")\n",
    "file.close()"
   ]
  },
  {
   "cell_type": "code",
   "execution_count": 9,
   "id": "cf1c1c47",
   "metadata": {},
   "outputs": [
    {
     "name": "stdout",
     "output_type": "stream",
     "text": [
      "------------read()---------------------\n",
      "Lorem Ipsum is simply dummy text of the printing and \n",
      "\n",
      "              typesetting industry. Lorem Ipsum has been the industry's \n",
      "\n",
      "              standard dummy text ever since the 1500s, when an unknown \n",
      "\n",
      "              printer took a galley of type and scrambled it to make a type \n",
      "\n",
      "              specimen book. It has survived not only five centuries, but also the \n",
      "\n",
      "              leap into electronic typesetting, remaining essentially unchanged. \n",
      "\n",
      "              It was popularised in the 1960s with the release of Letraset sheets \n",
      "------------readline()---------------------\n",
      "Lorem Ipsum is simply dummy text of the printing and \n",
      "\n",
      "------------readlines()---------------------\n",
      "['Lorem Ipsum is simply dummy text of the printing and \\n', '\\n', \"              typesetting industry. Lorem Ipsum has been the industry's \\n\", '\\n', '              standard dummy text ever since the 1500s, when an unknown \\n', '\\n', '              printer took a galley of type and scrambled it to make a type \\n', '\\n', '              specimen book. It has survived not only five centuries, but also the \\n', '\\n', '              leap into electronic typesetting, remaining essentially unchanged. \\n', '\\n', '              It was popularised in the 1960s with the release of Letraset sheets ']\n"
     ]
    }
   ],
   "source": [
    "with open('test.txt','r') as file:\n",
    "    print(\"------------read()---------------------\")\n",
    "    print(file.read())\n",
    "    print(\"------------readline()---------------------\")\n",
    "    file.seek(0)\n",
    "    print(file.readline())\n",
    "    print(\"------------readlines()---------------------\")\n",
    "    file.seek(0)\n",
    "    print(file.readlines())"
   ]
  },
  {
   "cell_type": "markdown",
   "id": "3667088e",
   "metadata": {},
   "source": [
    "### 5. Explain why with statement is used with open (). What is the advantage of using with statement and open () together?"
   ]
  },
  {
   "cell_type": "markdown",
   "id": "8ead6191",
   "metadata": {},
   "source": [
    "- If we are using with key-word then dont worry about close() file function\n",
    "- with key-word handle your file close() problem\n",
    "- we dont have to use close() function anywhere"
   ]
  },
  {
   "cell_type": "markdown",
   "id": "89e28993",
   "metadata": {},
   "source": [
    "### 6. Explain the write () and writelines () functions. Give a suitable example."
   ]
  },
  {
   "cell_type": "markdown",
   "id": "5784b79c",
   "metadata": {},
   "source": [
    "- write() : Returns the number of characters written (which is always equal to the which you are writting).\n",
    "- writelines() : Returns None when we go to print."
   ]
  },
  {
   "cell_type": "code",
   "execution_count": 10,
   "id": "f6db377c",
   "metadata": {},
   "outputs": [
    {
     "name": "stdout",
     "output_type": "stream",
     "text": [
      "24\n"
     ]
    }
   ],
   "source": [
    "data = 'There is read() function'\n",
    "with open('test2.txt','w') as file:\n",
    "    print(file.write(data))"
   ]
  },
  {
   "cell_type": "code",
   "execution_count": 12,
   "id": "974bfcd0",
   "metadata": {},
   "outputs": [
    {
     "name": "stdout",
     "output_type": "stream",
     "text": [
      "There is read() function\n"
     ]
    }
   ],
   "source": [
    "with open('test2.txt','r') as file:\n",
    "    print(file.read())"
   ]
  },
  {
   "cell_type": "code",
   "execution_count": 13,
   "id": "a6fc76f3",
   "metadata": {},
   "outputs": [
    {
     "name": "stdout",
     "output_type": "stream",
     "text": [
      "None\n"
     ]
    }
   ],
   "source": [
    "lines = [\"line1\\n\", \"line2\\n\", \"line3\\n\"]\n",
    "with open(\"file3.txt\", \"w\") as file:\n",
    "    print(file.writelines(lines))"
   ]
  },
  {
   "cell_type": "code",
   "execution_count": 15,
   "id": "16f998f9",
   "metadata": {},
   "outputs": [
    {
     "name": "stdout",
     "output_type": "stream",
     "text": [
      "line1\n",
      "line2\n",
      "line3\n",
      "\n"
     ]
    }
   ],
   "source": [
    "with open('file3.txt','r') as f:\n",
    "    print(f.read())"
   ]
  },
  {
   "cell_type": "code",
   "execution_count": null,
   "id": "59d6719f",
   "metadata": {},
   "outputs": [],
   "source": []
  }
 ],
 "metadata": {
  "kernelspec": {
   "display_name": "Python 3 (ipykernel)",
   "language": "python",
   "name": "python3"
  },
  "language_info": {
   "codemirror_mode": {
    "name": "ipython",
    "version": 3
   },
   "file_extension": ".py",
   "mimetype": "text/x-python",
   "name": "python",
   "nbconvert_exporter": "python",
   "pygments_lexer": "ipython3",
   "version": "3.9.12"
  }
 },
 "nbformat": 4,
 "nbformat_minor": 5
}
