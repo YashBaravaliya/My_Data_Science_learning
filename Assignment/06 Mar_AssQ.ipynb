{
 "cells": [
  {
   "cell_type": "markdown",
   "id": "96547c1a",
   "metadata": {},
   "source": [
    "### 1. what is a Statistics?"
   ]
  },
  {
   "cell_type": "markdown",
   "id": "53cc085e",
   "metadata": {},
   "source": [
    "Statics is a science of collecting, organizing and analying data"
   ]
  },
  {
   "cell_type": "markdown",
   "id": "c52cc716",
   "metadata": {},
   "source": [
    "### 2. Define the different types of statistics and give an example of when each type might be used."
   ]
  },
  {
   "cell_type": "markdown",
   "id": "8ed777f6",
   "metadata": {},
   "source": [
    "#### Descriptive statistics\n",
    "\n",
    "Def: it consists of organizing and summarizing data \n",
    "\n",
    "- Measured of central Tendency [Mean, Median, Mode]\n",
    "- Measured of Dispersion  [Variance, Std]\n",
    "- Difference type of Distribution of data.\n",
    "- ex: Histogram, pdf, pmf\n",
    "\n",
    "#### inferential statics\n",
    "\n",
    "Def: in consist of using data you have measured from conclusion \n",
    "\n",
    "![Untitled](https://s3-us-west-2.amazonaws.com/secure.notion-static.com/37524c22-6b26-49dd-92f3-c0ec62dcefba/Untitled.png)\n",
    "\n",
    "1. z-test\n",
    "2. T-test\n",
    "3. cmi square"
   ]
  },
  {
   "cell_type": "markdown",
   "id": "47aa2032",
   "metadata": {},
   "source": [
    "### 3. What are the different types of data and how do they differ from each other? Provide an example of each type of data."
   ]
  },
  {
   "cell_type": "markdown",
   "id": "a9901cec",
   "metadata": {},
   "source": [
    "1. Nominal Data: This type of data is used to represent categorical variables, where each observation belongs to a specific category. Nominal data does not have any inherent order or hierarchy, and the categories are usually represented by labels or names. Examples of nominal data include gender, race, and country of origin.\n",
    "\n",
    "\n",
    "2. Ordinal Data: This type of data is similar to nominal data, but with an added level of order or hierarchy. The categories can be ranked or ordered in a meaningful way, but the distance between the categories is not necessarily equal. Examples of ordinal data include educational level (e.g., high school diploma, bachelor's degree, master's degree), income level (e.g., low, medium, high), and performance rating (e.g., poor, satisfactory, excellent).\n",
    "\n",
    "\n",
    "3. Interval Data: This type of data is used to represent quantitative variables, where the distance between any two values is equal. Interval data does not have a true zero point, which means that ratios cannot be calculated. Examples of interval data include temperature (measured in degrees Celsius or Fahrenheit) and time (measured in hours, minutes, and seconds).\n",
    "\n",
    "\n",
    "4. Ratio Data: This type of data is also used to represent quantitative variables, but with the added feature of a true zero point. This allows ratios to be calculated and meaningful comparisons to be made between values. Examples of ratio data include weight, height, and age.\n",
    "\n",
    "\n",
    "5. Discrete Data: This type of data can take on only a finite or countable number of values. Discrete data usually results from counting, such as the number of students in a class, the number of cars in a parking lot, or the number of books on a shelf.\n",
    "\n",
    "\n",
    "6. Continuous Data: This type of data can take on any value within a certain range. Continuous data usually results from measuring, such as weight, height, and time."
   ]
  },
  {
   "cell_type": "markdown",
   "id": "78165805",
   "metadata": {},
   "source": [
    "### 4. Categorise the following datasets with respect to quantitative and qualitative data types:"
   ]
  },
  {
   "cell_type": "markdown",
   "id": "9794267b",
   "metadata": {},
   "source": [
    "1. Grading in exam:A,A+,B+,B,C+,C,D,E\n",
    "Ordinal data\n",
    "\n",
    "2. Color of managoes: yellow,green,orange,red\n",
    "Nominal data\n",
    "\n",
    "3. Height data of a class:[178.9,179,179.5,176,178.3,.....]\n",
    "Continuous data\n",
    "\n",
    "4. Number of mangoes exported by a farm:[500,600,478,872,....]\n",
    "Discrete data"
   ]
  },
  {
   "cell_type": "markdown",
   "id": "f062d219",
   "metadata": {},
   "source": [
    "### 5. Explain the concept of levels of measurement and give an example of a variable for each level."
   ]
  },
  {
   "cell_type": "markdown",
   "id": "2a5b805e",
   "metadata": {},
   "source": [
    "Levels of measurement refer to the different ways in which variables can be measured or classified. There are four levels of measurement: nominal, ordinal, interval, and ratio.\n",
    "\n",
    "1. Nominal level of measurement: Nominal data are categorical data that can be classified into distinct groups based on a characteristic or attribute. In nominal data, there is no inherent order or hierarchy among the categories. Examples of nominal variables include gender (male or female), eye color (blue, brown, green), or blood type (A, B, AB, O).\n",
    "\n",
    "\n",
    "2. Ordinal level of measurement: Ordinal data are categorical data that can be ranked or ordered based on some criterion. Unlike nominal data, ordinal data have a clear order or hierarchy among the categories. However, the intervals between the categories are not necessarily equal. Examples of ordinal variables include educational level (elementary school, high school, college), income level (low, middle, high), or satisfaction level (very satisfied, satisfied, dissatisfied, very dissatisfied).\n",
    "\n",
    "\n",
    "3. Interval level of measurement: Interval data are numeric data that have equal intervals between adjacent values. Interval data can be ranked or ordered, and differences between the values have meaning. However, interval data do not have a true zero point. Examples of interval variables include temperature (measured in degrees Fahrenheit or Celsius), time (measured in minutes or seconds), or IQ scores.\n",
    "\n",
    "\n",
    "4. Ratio level of measurement: Ratio data are numeric data that have a true zero point. Ratio data have all the properties of interval data, plus the additional property that ratios of values have meaning. Examples of ratio variables include height, weight, distance, and time (measured in hours or minutes)."
   ]
  },
  {
   "cell_type": "markdown",
   "id": "1da8d0a4",
   "metadata": {},
   "source": [
    "### 6. Why is it important to understand the level of measurement when analyzing data? Provide an example to illustrate your answer."
   ]
  },
  {
   "cell_type": "markdown",
   "id": "5bc789f6",
   "metadata": {},
   "source": [
    "Understanding the level of measurement of a variable is important when analyzing data because it determines which statistical methods are appropriate to use in analyzing the data. Different levels of measurement require different statistical techniques and have different properties that affect the types of analysis that can be done.\n",
    "\n",
    "\n",
    "For example, consider a study that measures the satisfaction level of customers at a restaurant using a Likert scale (1=strongly disagree, 2=disagree, 3=neither agree nor disagree, 4=agree, 5=strongly agree). The satisfaction level variable is ordinal because the Likert scale categories can be ordered, but the intervals between the categories are not necessarily equal. If we were to analyze the data using methods appropriate for interval or ratio data, such as computing the mean or standard deviation, we would be making inappropriate assumptions about the data and potentially producing misleading results.\n",
    "\n",
    "\n",
    "On the other hand, if the study had measured the weight of customers in pounds, the weight variable would be ratio data, and it would be appropriate to compute the mean or standard deviation to summarize the data. In this case, using methods appropriate for nominal or ordinal data would not capture the full range of information provided by the ratio data."
   ]
  },
  {
   "cell_type": "markdown",
   "id": "a5f0f386",
   "metadata": {},
   "source": [
    "### 7. How nominal data type is different from ordinal data type."
   ]
  },
  {
   "cell_type": "markdown",
   "id": "cb03e814",
   "metadata": {},
   "source": [
    "Nominal data and ordinal data are both types of categorical data, but they differ in the level of measurement and the properties of the categories.\n",
    "\n",
    "\n",
    "Nominal data are categorical data that can be classified into distinct groups based on a characteristic or attribute. In nominal data, there is no inherent order or hierarchy among the categories. The categories are mutually exclusive and exhaustive, meaning that each observation can belong to only one category, and all possible categories are accounted for. Examples of nominal data include gender (male or female), eye color (blue, brown, green), or blood type (A, B, AB, O).\n",
    "\n",
    "\n",
    "Ordinal data are categorical data that can be ranked or ordered based on some criterion. Unlike nominal data, ordinal data have a clear order or hierarchy among the categories. However, the intervals between the categories are not necessarily equal. Examples of ordinal data include educational level (elementary school, high school, college), income level (low, middle, high), or satisfaction level (very satisfied, satisfied, dissatisfied, very dissatisfied)."
   ]
  },
  {
   "cell_type": "markdown",
   "id": "50011ad1",
   "metadata": {},
   "source": [
    "### 8. Which type of plot can be used to display data in terms of range?"
   ]
  },
  {
   "cell_type": "markdown",
   "id": "558459ad",
   "metadata": {},
   "source": [
    "A box plot (also known as a box-and-whisker plot) is a type of plot that can be used to display data in terms of range."
   ]
  },
  {
   "cell_type": "markdown",
   "id": "37531d6a",
   "metadata": {},
   "source": [
    "### 9. Describe the difference between descriptive and inferential statistics. Give an example of each type of statistics and explain how they are used."
   ]
  },
  {
   "cell_type": "markdown",
   "id": "28678e4c",
   "metadata": {},
   "source": [
    "Descriptive statistics refer to the methods used to summarize and describe the main features of a dataset. Descriptive statistics provide simple, quantitative summaries of the data, such as measures of central tendency (mean, median, mode), measures of variability (standard deviation, variance, range), and graphical representations of the data (histograms, box plots, scatter plots). Descriptive statistics are used to provide insight into the main characteristics of a dataset, such as its shape, spread, and outliers, and to summarize the data in a way that is easily interpretable.\n",
    "\n",
    "\n",
    "Example of descriptive statistics: Suppose a researcher is interested in describing the heights of a group of people. They could compute the mean, median, and standard deviation of the heights, as well as create a histogram or box plot to visualize the distribution of the data.\n",
    "\n",
    "\n",
    "Inferential statistics, on the other hand, refer to the methods used to make generalizations or predictions about a larger population based on a sample of data. Inferential statistics involve the use of probability theory and hypothesis testing to make statistical inferences about the population from the sample. Inferential statistics are used to test hypotheses, estimate parameters, and make predictions about the population.\n",
    "\n",
    "\n",
    "Example of inferential statistics: Suppose a researcher is interested in testing whether there is a significant difference in the mean heights of two different groups of people, such as men and women. They could use inferential statistics, such as a t-test or ANOVA, to determine whether the observed difference in means is statistically significant, and to make inferences about the population means based on the sample data."
   ]
  },
  {
   "cell_type": "markdown",
   "id": "7eac5025",
   "metadata": {},
   "source": [
    "### 10. What are some common measures of central tendency and variability used in statistics? Explain how each measure can be used to describe a dataset."
   ]
  },
  {
   "cell_type": "markdown",
   "id": "16a8a07b",
   "metadata": {},
   "source": [
    "Measures of central tendency and variability are common statistical measures used to describe a dataset. These measures provide a summary of the typical or average value of a dataset, as well as the spread or variability of the data.\n",
    "\n",
    "#### Measures of central tendency:\n",
    "\n",
    "Mean: The mean is the sum of all the values in a dataset divided by the number of observations. The mean represents the average value of the data and is often used as a measure of central tendency. It can be used to describe the typical value of the data.\n",
    "\n",
    "Median: The median is the middle value in a dataset when the data are arranged in order. The median is less sensitive to outliers than the mean and is often used as a robust measure of central tendency. It can be used to describe the typical value of the data.\n",
    "\n",
    "Mode: The mode is the value in a dataset that appears most frequently. The mode is often used for nominal or categorical data, and can be used to describe the most common category or response in the data.\n",
    "\n",
    "#### Measures of variability:\n",
    "\n",
    "Range: The range is the difference between the maximum and minimum values in a dataset. The range provides a measure of the spread or variability of the data and can be used to describe the full range of values in the data.\n",
    "\n",
    "Variance: The variance is the average of the squared differences between each value and the mean of the dataset. The variance provides a measure of the spread or variability of the data, and is commonly used in statistical inference and hypothesis testing.\n",
    "\n",
    "Standard deviation: The standard deviation is the square root of the variance. It provides a measure of the spread or variability of the data, and is often used to describe the typical deviation of individual data points from the mean."
   ]
  },
  {
   "cell_type": "code",
   "execution_count": null,
   "id": "3fe52f46",
   "metadata": {},
   "outputs": [],
   "source": []
  },
  {
   "cell_type": "code",
   "execution_count": null,
   "id": "851c8f5f",
   "metadata": {},
   "outputs": [],
   "source": []
  },
  {
   "cell_type": "code",
   "execution_count": null,
   "id": "b96437f8",
   "metadata": {},
   "outputs": [],
   "source": []
  },
  {
   "cell_type": "code",
   "execution_count": null,
   "id": "686983c5",
   "metadata": {},
   "outputs": [],
   "source": []
  },
  {
   "cell_type": "code",
   "execution_count": null,
   "id": "9725e256",
   "metadata": {},
   "outputs": [],
   "source": []
  },
  {
   "cell_type": "code",
   "execution_count": null,
   "id": "249cbc84",
   "metadata": {},
   "outputs": [],
   "source": []
  },
  {
   "cell_type": "code",
   "execution_count": null,
   "id": "6065c100",
   "metadata": {},
   "outputs": [],
   "source": []
  },
  {
   "cell_type": "markdown",
   "id": "ff5c9454",
   "metadata": {},
   "source": []
  }
 ],
 "metadata": {
  "kernelspec": {
   "display_name": "Python 3 (ipykernel)",
   "language": "python",
   "name": "python3"
  },
  "language_info": {
   "codemirror_mode": {
    "name": "ipython",
    "version": 3
   },
   "file_extension": ".py",
   "mimetype": "text/x-python",
   "name": "python",
   "nbconvert_exporter": "python",
   "pygments_lexer": "ipython3",
   "version": "3.9.12"
  }
 },
 "nbformat": 4,
 "nbformat_minor": 5
}
