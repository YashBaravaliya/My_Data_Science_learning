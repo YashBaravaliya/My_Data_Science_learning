{
 "cells": [
  {
   "cell_type": "markdown",
   "id": "5781ed01",
   "metadata": {},
   "source": [
    "### 1. What are the three measures of central tendency?"
   ]
  },
  {
   "cell_type": "markdown",
   "id": "0eec0965",
   "metadata": {},
   "source": [
    "The three measures of central tendency are:\n",
    "\n",
    "1. Mean: The mean is the sum of all values in a data set divided by the total number of values. It is also known as the average.\n",
    "\n",
    "\n",
    "2. Median: The median is the middle value in a data set when the values are arranged in order. If there is an even number of values, the median is the average of the two middle values.\n",
    "\n",
    "\n",
    "3. Mode: The mode is the value that appears most frequently in a data set. A data set can have multiple modes, or no mode at all if no value appears more than once."
   ]
  },
  {
   "cell_type": "markdown",
   "id": "a2ab6631",
   "metadata": {},
   "source": [
    "### 2. What is the difference between the mean, median, and mode? How are they used to measure the central tendency of a dataset?"
   ]
  },
  {
   "cell_type": "markdown",
   "id": "2bfaded4",
   "metadata": {},
   "source": [
    "The mean is calculated by summing all the values in the dataset and dividing by the number of values. It is sensitive to outliers, as it takes into account all values in the dataset. The mean is commonly used to describe normally distributed data, where values are evenly distributed around a central value.\n",
    "\n",
    "\n",
    "The median is the middle value in a dataset when values are arranged in order. It is not affected by outliers, as it only considers the middle value. The median is commonly used to describe skewed data, where there are extreme values that pull the mean away from the center of the distribution.\n",
    "\n",
    "\n",
    "The mode is the most frequently occurring value in a dataset. It is commonly used to describe categorical or nominal data, where the data is not numeric. The mode can also be used to describe numeric data, but it may not be a representative value if there are multiple values that occur frequently."
   ]
  },
  {
   "cell_type": "markdown",
   "id": "57982f83",
   "metadata": {},
   "source": [
    "### 3. Measure the three measures of central tendency for the given height data:\n",
    "[178,177,176,177,178.2,178,175,179,180,175,178.9,176.2,177,172.5,178,176.5]"
   ]
  },
  {
   "cell_type": "markdown",
   "id": "30909b1e",
   "metadata": {},
   "source": [
    "Mean = (178 + 177 + 176 + 177 + 178.2 + 178 + 175 + 179 + 180 + 175 + 178.9 +176.2 + 177 + 172.5 + 178 + 176.5) / 16\n",
    "= 177.6\n",
    "\n",
    "Median = (177.5 + 178) / 2\n",
    "= 177.75\n",
    "\n",
    "The value 178 appears three times so mode is 178"
   ]
  },
  {
   "cell_type": "markdown",
   "id": "7f529d35",
   "metadata": {},
   "source": [
    "### 4. Find the standard deviation for the given data:"
   ]
  },
  {
   "cell_type": "markdown",
   "id": "e01cbc9f",
   "metadata": {},
   "source": [
    "[(178-177.6)^2 + (177-177.6)^2 + (176-177.6)^2 + (177-177.6)^2 + (178.2-177.6)^2 + (178-177.6)^2 + (175-177.6)^2 + (179-177.6)^2 + (180-177.6)^2 + (175-177.6)^2 + (178.9-177.6)^2 + (176.2-177.6)^2 + (177-177.6)^2 + (172.5-177.6)^2 + (178-177.6)^2 + (176.5-177.6)^2]\n",
    "\n",
    "var= 426.48\n",
    "\n",
    "std= sqrt(426.48 / (16 - 1))\n",
    "\n",
    "std= sqrt(426.48 / 15)\n",
    "\n",
    "std= 2.39"
   ]
  },
  {
   "cell_type": "markdown",
   "id": "0e40e15b",
   "metadata": {},
   "source": [
    "### 5. How are measures of dispersion such as range, variance, and standard deviation used to describe the spread of a dataset? Provide an example."
   ]
  },
  {
   "cell_type": "markdown",
   "id": "6926c779",
   "metadata": {},
   "source": [
    "Measures of dispersion such as range, variance, and standard deviation are used to describe how spread out the data in a dataset is. They provide information about the variability and diversity of the dataset.\n",
    "\n",
    "- Range: The range is the difference between the maximum and minimum values in a dataset. It gives a rough estimate of how spread out the data is, but it is not a very precise measure of dispersion since it only considers two extreme values. For example, if we have a dataset of exam scores for a class, the range would tell us how much difference there is between the highest and lowest scores.\n",
    "\n",
    "- Variance: The variance is the average of the squared deviations from the mean. It provides a more precise measure of how much the data varies from the mean, but it is difficult to interpret since it is expressed in squared units. For example, if we have a dataset of the heights of people in a population, the variance would tell us how much the heights differ from the mean height.\n",
    "\n",
    "- Standard deviation: The standard deviation is the square root of the variance. It is a more commonly used measure of dispersion because it is expressed in the same units as the data. The standard deviation measures how much the data deviates from the mean in a way that is easy to interpret. For example, if we have a dataset of the ages of people in a sample, the standard deviation would tell us how much the ages vary from the average age."
   ]
  },
  {
   "cell_type": "markdown",
   "id": "164e65f4",
   "metadata": {},
   "source": [
    "### 6. What is a Venn diagram?"
   ]
  },
  {
   "attachments": {
    "download.png": {
     "image/png": "[encoded data removed]"
    }
   },
   "cell_type": "markdown",
   "id": "8a8f25bc",
   "metadata": {},
   "source": [
    "A Venn diagram is a widely used diagram style that shows the logical relation between sets\n",
    "\n",
    "![download.png](attachment:download.png)"
   ]
  },
  {
   "cell_type": "markdown",
   "id": "2eacacc2",
   "metadata": {},
   "source": [
    "### 7. For the two given sets A = (2,3,4,5,6,7) & B = (0,2,6,8,10). Find:\n",
    "(i) A ⋂ B\n",
    "(ii) A ⋃ B"
   ]
  },
  {
   "cell_type": "markdown",
   "id": "cc3bab50",
   "metadata": {},
   "source": [
    "A ⋂ B = 2,6\n",
    "\n",
    "A ⋃ B = 0,2,3,4,5,6,7,8,10"
   ]
  },
  {
   "cell_type": "markdown",
   "id": "8cc62bd9",
   "metadata": {},
   "source": [
    "### 8. What do you understand about skewness in data?"
   ]
  },
  {
   "cell_type": "markdown",
   "id": "bb4eb577",
   "metadata": {},
   "source": [
    "Skewness is a measure of the asymmetry of a probability distribution, or in other words, how lopsided or skewed the data is. In a perfectly symmetrical distribution, the mean, median, and mode are all equal. However, when a distribution is skewed, the mean, median, and mode are not equal."
   ]
  },
  {
   "cell_type": "markdown",
   "id": "4c4f696b",
   "metadata": {},
   "source": [
    "### 9. If a data is right skewed then what will be the position of median with respect to mean?"
   ]
  },
  {
   "attachments": {
    "download.png": {
     "image/png": "[encoded data removed]"
    }
   },
   "cell_type": "markdown",
   "id": "99967cfc",
   "metadata": {},
   "source": [
    "![download.png](attachment:download.png)"
   ]
  },
  {
   "cell_type": "markdown",
   "id": "eeac3c85",
   "metadata": {},
   "source": [
    "### 10. Explain the difference between covariance and correlation. How are these measures used in statistical analysis?"
   ]
  },
  {
   "cell_type": "markdown",
   "id": "eeba9a86",
   "metadata": {},
   "source": [
    "Covariance is a measure of how two variables change together. It measures the extent to which two variables are linearly related. A positive covariance indicates that the two variables tend to increase or decrease together, while a negative covariance indicates that they tend to move in opposite directions. However, the magnitude of the covariance is not standardized, which means that it is difficult to compare the strength of the relationship between two different pairs of variables. Moreover, covariance can take on any value, which makes it difficult to interpret.\n",
    "\n",
    "Correlation, on the other hand, is a standardized measure of the relationship between two variables. It measures the strength and direction of the linear relationship between two variables on a scale from -1 to +1. A correlation coefficient of +1 indicates a perfect positive relationship, a correlation coefficient of -1 indicates a perfect negative relationship, and a correlation coefficient of 0 indicates no relationship. Correlation is a more useful measure than covariance because it can be interpreted in a more meaningful way and it is not affected by differences in scale or units of measurement."
   ]
  },
  {
   "cell_type": "markdown",
   "id": "2920223a",
   "metadata": {},
   "source": [
    "### 11. What is the formula for calculating the sample mean? Provide an example calculation for a dataset."
   ]
  },
  {
   "cell_type": "markdown",
   "id": "7b5c3bac",
   "metadata": {},
   "source": [
    "x̄ = (Σx) / n\n",
    "\n",
    "Σx = 5 + 6 + 7 + 8 + 9 = 35\n",
    "\n",
    "x̄ = 35 / 5 = 7\n"
   ]
  },
  {
   "cell_type": "markdown",
   "id": "0ea11d28",
   "metadata": {},
   "source": [
    "### 12. For a normal distribution data what is the relationship between its measure of central tendency?"
   ]
  },
  {
   "cell_type": "markdown",
   "id": "e75bb9e0",
   "metadata": {},
   "source": [
    "For a normal distribution, the mean, median, and mode are all equal. In other words, they have the same value and are located at the center of the distribution. This is because a normal distribution is symmetrical around its mean, and the mean is the point of balance for the distribution. Therefore, the mean, median, and mode are all measures of the central tendency that provide the same information about the center of the distribution for a normal distribution."
   ]
  },
  {
   "cell_type": "markdown",
   "id": "7d647a0d",
   "metadata": {},
   "source": [
    "### 13. How is covariance different from correlation?"
   ]
  },
  {
   "cell_type": "markdown",
   "id": "75b82f76",
   "metadata": {},
   "source": [
    "Covariance measures the extent to which two variables vary together. It is a measure of the strength and direction of the linear relationship between two variables. A positive covariance indicates that the two variables tend to increase or decrease together, while a negative covariance indicates that they tend to move in opposite directions. However, the magnitude of the covariance is not standardized, which means that it is difficult to compare the strength of the relationship between two different pairs of variables. Moreover, covariance can take on any value, which makes it difficult to interpret.\n",
    "\n",
    "Correlation, on the other hand, is a standardized measure of the relationship between two variables. It measures the strength and direction of the linear relationship between two variables on a scale from -1 to +1. A correlation coefficient of +1 indicates a perfect positive relationship, a correlation coefficient of -1 indicates a perfect negative relationship, and a correlation coefficient of 0 indicates no relationship. Correlation is a more useful measure than covariance because it can be interpreted in a more meaningful way and it is not affected by differences in scale or units of measurement."
   ]
  },
  {
   "cell_type": "markdown",
   "id": "12dec786",
   "metadata": {},
   "source": [
    "### 14. How do outliers affect measures of central tendency and dispersion? Provide an example."
   ]
  },
  {
   "cell_type": "markdown",
   "id": "9f3c5025",
   "metadata": {},
   "source": [
    "In terms of measures of central tendency, outliers can have a significant impact on the mean because the mean is sensitive to extreme values. For example, if we have the following dataset: 1, 2, 3, 4, 5, 100, the mean is (1+2+3+4+5+100)/6 = 19.2. In this case, the value 100 is an outlier and significantly impacts the mean, making it higher than what it would be without the outlier. The median, on the other hand, is less sensitive to outliers, because it is not affected by extreme values. In this example, the median is 3.5, which is not affected by the outlier."
   ]
  }
 ],
 "metadata": {
  "kernelspec": {
   "display_name": "Python 3 (ipykernel)",
   "language": "python",
   "name": "python3"
  },
  "language_info": {
   "codemirror_mode": {
    "name": "ipython",
    "version": 3
   },
   "file_extension": ".py",
   "mimetype": "text/x-python",
   "name": "python",
   "nbconvert_exporter": "python",
   "pygments_lexer": "ipython3",
   "version": "3.9.12"
  }
 },
 "nbformat": 4,
 "nbformat_minor": 5
}
