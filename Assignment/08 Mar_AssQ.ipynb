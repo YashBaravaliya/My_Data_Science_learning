{
 "cells": [
  {
   "cell_type": "markdown",
   "id": "7d412415",
   "metadata": {},
   "source": [
    "### 1. What is the Probability density function?"
   ]
  },
  {
   "cell_type": "markdown",
   "id": "1493b97d",
   "metadata": {},
   "source": [
    "A probability density function (PDF) is a function that describes the probability distribution of a continuous random variable. The PDF is used to specify the probability of the variable falling within a particular range of values, as opposed to taking on any one specific value. In other words, the PDF provides a way to describe the relative likelihood of different values of a continuous random variable."
   ]
  },
  {
   "cell_type": "markdown",
   "id": "5a8cfcc3",
   "metadata": {},
   "source": [
    "### 2. What are the types of Probability distribution?"
   ]
  },
  {
   "cell_type": "markdown",
   "id": "bb7267de",
   "metadata": {},
   "source": [
    "1. Normal distribution \n",
    "2. Bernouli distribution\n",
    "3. uniform distribution\n",
    "4. poission distribution\n",
    "5. lognoraml distribution\n",
    "6. Binomal distribution"
   ]
  },
  {
   "cell_type": "markdown",
   "id": "67b7796c",
   "metadata": {},
   "source": [
    "### 3. Write a Python function to calculate the probability density function of a normal distribution with given mean and standard deviation at a given point."
   ]
  },
  {
   "cell_type": "code",
   "execution_count": 1,
   "id": "924317d6",
   "metadata": {},
   "outputs": [],
   "source": [
    "import numpy as np\n",
    "\n",
    "def normal_pdf(x, mu, sigma):\n",
    "    \"\"\"\n",
    "    Calculates the PDF of a normal distribution at a given point x,\n",
    "    with mean mu and standard deviation sigma.\n",
    "    \"\"\"\n",
    "    exponent = -((x - mu)**2) / (2 * (sigma**2))\n",
    "    coeff = 1 / (sigma * np.sqrt(2 * np.pi))\n",
    "    pdf = coeff * np.exp(exponent)\n",
    "    return pdf\n"
   ]
  },
  {
   "cell_type": "markdown",
   "id": "8ecfaed1",
   "metadata": {},
   "source": [
    "### 4. What are the properties of Binomial distribution? Give two examples of events where binomial distribution can be applied."
   ]
  },
  {
   "cell_type": "markdown",
   "id": "ba278728",
   "metadata": {},
   "source": [
    "- discreate a random varable\n",
    "- Every expariment outcome is binary\n",
    "- there experiment is performd from n time\n"
   ]
  },
  {
   "cell_type": "markdown",
   "id": "d37de7c7",
   "metadata": {},
   "source": [
    "### 5. Generate a random sample of size 1000 from a binomial distribution with probability of success 0.4 and plot a histogram of the results using matplotlib."
   ]
  },
  {
   "cell_type": "code",
   "execution_count": 3,
   "id": "3fa0a330",
   "metadata": {},
   "outputs": [
    {
     "data": {
      "image/png": "[encoded data removed]",
      "text/plain": [
       "<Figure size 432x288 with 1 Axes>"
      ]
     },
     "metadata": {
      "needs_background": "light"
     },
     "output_type": "display_data"
    }
   ],
   "source": [
    "import numpy as np\n",
    "import matplotlib.pyplot as plt\n",
    "\n",
    "n = 10\n",
    "p = 0.4\n",
    "\n",
    "sample = np.random.binomial(n, p, 1000)\n",
    "\n",
    "# Plot a histogram of the sample\n",
    "plt.hist(sample, bins=np.arange(0, n+1)-0.5, density=True, alpha=0.5)\n",
    "plt.xlabel('Number of successes')\n",
    "plt.ylabel('Probability density')\n",
    "plt.title('Histogram of binomial distribution with n=10, p=0.4')\n",
    "plt.show()\n"
   ]
  },
  {
   "cell_type": "markdown",
   "id": "d9d43e3c",
   "metadata": {},
   "source": [
    "### 6. Write a Python function to calculate the cumulative distribution function of a Poisson distribution with given mean at a given point."
   ]
  },
  {
   "cell_type": "code",
   "execution_count": 4,
   "id": "5b676564",
   "metadata": {},
   "outputs": [],
   "source": [
    "import math\n",
    "\n",
    "def poisson_cdf(mu, x):\n",
    "    cdf = 0\n",
    "    for i in range(x+1):\n",
    "        cdf += math.exp(-mu) * mu**i / math.factorial(i)\n",
    "    return cdf\n"
   ]
  },
  {
   "cell_type": "code",
   "execution_count": 5,
   "id": "d258ac75",
   "metadata": {},
   "outputs": [
    {
     "name": "stdout",
     "output_type": "stream",
     "text": [
      "The CDF of a Poisson distribution with mean 2 at x = 3 is 0.8571234604985472\n"
     ]
    }
   ],
   "source": [
    "mu = 2\n",
    "x = 3\n",
    "cdf = poisson_cdf(mu, x)\n",
    "print('The CDF of a Poisson distribution with mean', mu, 'at x =', x, 'is', cdf)\n"
   ]
  },
  {
   "cell_type": "markdown",
   "id": "e45ee49c",
   "metadata": {},
   "source": [
    "### 7. How Binomial distribution different from Poisson distribution?"
   ]
  },
  {
   "cell_type": "markdown",
   "id": "e395f6dd",
   "metadata": {},
   "source": [
    "- Number of trials: Binomial distribution is used to model the number of successes in a fixed number of independent trials, while Poisson distribution is used to model the number of occurrences of an event in a fixed interval of time or space.\n",
    "\n",
    "\n",
    "- Probability of success: In a binomial distribution, the probability of success (p) is constant for each trial, while in a Poisson distribution, the probability of occurrence (lambda) is constant for each interval.\n",
    "\n",
    "\n",
    "- Range of values: The binomial distribution is discrete, meaning that it is defined for integer values of x between 0 and n (the number of trials). The Poisson distribution is also discrete, but it can take on any non-negative integer value.\n",
    "\n",
    "\n",
    "- Assumptions: The binomial distribution assumes that the trials are independent and that the probability of success is constant for each trial. The Poisson distribution assumes that the occurrences are random and independent, and that the rate of occurrence is constant over time or space."
   ]
  },
  {
   "cell_type": "markdown",
   "id": "6f51f0c4",
   "metadata": {},
   "source": [
    "### 8. Generate a random sample of size 1000 from a Poisson distribution with mean 5 and calculate the sample mean and variance."
   ]
  },
  {
   "cell_type": "code",
   "execution_count": 6,
   "id": "175c5a4a",
   "metadata": {},
   "outputs": [
    {
     "name": "stdout",
     "output_type": "stream",
     "text": [
      "Sample mean: 4.918\n",
      "Sample variance: 4.461276\n"
     ]
    }
   ],
   "source": [
    "import numpy as np\n",
    "\n",
    "# Generate random sample\n",
    "sample = np.random.poisson(lam=5, size=1000)\n",
    "\n",
    "# Calculate sample mean and variance\n",
    "sample_mean = np.mean(sample)\n",
    "sample_variance = np.var(sample)\n",
    "\n",
    "print(\"Sample mean:\", sample_mean)\n",
    "print(\"Sample variance:\", sample_variance)\n"
   ]
  },
  {
   "cell_type": "markdown",
   "id": "9794653a",
   "metadata": {},
   "source": [
    "### 9. How mean and variance are related in Binomial distribution and Poisson distribution?"
   ]
  },
  {
   "cell_type": "markdown",
   "id": "c8d851bd",
   "metadata": {},
   "source": [
    "In a binomial distribution, the mean $\\mu$ is equal to $np$, where $n$ is the number of trials and $p$ is the probability of success in each trial. The variance $\\sigma^2$ is equal to $np(1-p)$.\n",
    "\n",
    "In a Poisson distribution, the mean $\\mu$ is equal to $\\lambda$, where $\\lambda$ is the average number of events in a fixed interval of time or space. The variance $\\sigma^2$ is also equal to $\\lambda$.\n",
    "\n",
    "Note that for both distributions, the variance is a function of the mean. In a binomial distribution, the variance is proportional to both $n$ and $p$, while in a Poisson distribution, the variance is equal to the mean.\n",
    "\n",
    "Also note that as $n$ (the number of trials) becomes large and $p$ (the probability of success) becomes small such that $np$ remains constant, the binomial distribution approaches a Poisson distribution with $\\lambda = np$."
   ]
  },
  {
   "cell_type": "markdown",
   "id": "9abc0bc1",
   "metadata": {},
   "source": [
    "### 10. In normal distribution with respect to mean position, where does the least frequent data appear?"
   ]
  },
  {
   "cell_type": "markdown",
   "id": "f22922d3",
   "metadata": {},
   "source": [
    "In a normal distribution, the least frequent data points (i.e. the outliers) are located at the tails of the distribution, which are farthest away from the mean. Specifically, data points that are more than 2 or 3 standard deviations from the mean are considered outliers and are relatively rare in a normal distribution. Therefore, the least frequent data points in a normal distribution are those that are located at the tails of the distribution, furthest away from the mean"
   ]
  }
 ],
 "metadata": {
  "kernelspec": {
   "display_name": "Python 3 (ipykernel)",
   "language": "python",
   "name": "python3"
  },
  "language_info": {
   "codemirror_mode": {
    "name": "ipython",
    "version": 3
   },
   "file_extension": ".py",
   "mimetype": "text/x-python",
   "name": "python",
   "nbconvert_exporter": "python",
   "pygments_lexer": "ipython3",
   "version": "3.9.12"
  }
 },
 "nbformat": 4,
 "nbformat_minor": 5
}
