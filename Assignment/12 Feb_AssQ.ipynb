{
 "cells": [
  {
   "cell_type": "markdown",
   "id": "068c6014",
   "metadata": {},
   "source": [
    "### 1. What is an Exception in python? Write the difference between Exceptions and Syntax errors."
   ]
  },
  {
   "cell_type": "markdown",
   "id": "c3bd35a6",
   "metadata": {},
   "source": [
    "- Exceptions: Exceptions are raised when the program is syntactically correct, but the code resulted in an error.\n",
    "- Syntax Error : As the name suggests this error is caused by the wrong syntax in the code. It leads to the termination/block of the program."
   ]
  },
  {
   "cell_type": "markdown",
   "id": "9b7ff12e",
   "metadata": {},
   "source": [
    "### 2. What happens when an exception is not handled? Explain with an example."
   ]
  },
  {
   "cell_type": "markdown",
   "id": "8255e7c4",
   "metadata": {},
   "source": [
    "it a stoip code to execution"
   ]
  },
  {
   "cell_type": "code",
   "execution_count": 3,
   "id": "e5719041",
   "metadata": {},
   "outputs": [
    {
     "ename": "ZeroDivisionError",
     "evalue": "division by zero",
     "output_type": "error",
     "traceback": [
      "\u001b[1;31m---------------------------------------------------------------------------\u001b[0m",
      "\u001b[1;31mZeroDivisionError\u001b[0m                         Traceback (most recent call last)",
      "Input \u001b[1;32mIn [3]\u001b[0m, in \u001b[0;36m<cell line: 3>\u001b[1;34m()\u001b[0m\n\u001b[0;32m      1\u001b[0m a \u001b[38;5;241m=\u001b[39m \u001b[38;5;241m5\u001b[39m\n\u001b[0;32m      2\u001b[0m b \u001b[38;5;241m=\u001b[39m \u001b[38;5;241m0\u001b[39m\n\u001b[1;32m----> 3\u001b[0m \u001b[43ma\u001b[49m\u001b[38;5;241;43m/\u001b[39;49m\u001b[43mb\u001b[49m\n\u001b[0;32m      4\u001b[0m \u001b[38;5;28mprint\u001b[39m(b)\n",
      "\u001b[1;31mZeroDivisionError\u001b[0m: division by zero"
     ]
    }
   ],
   "source": [
    "a = 5\n",
    "b = 0\n",
    "a/b\n",
    "print(b)"
   ]
  },
  {
   "cell_type": "code",
   "execution_count": 4,
   "id": "4180a786",
   "metadata": {},
   "outputs": [
    {
     "name": "stdout",
     "output_type": "stream",
     "text": [
      "Error type is : division by zero\n"
     ]
    }
   ],
   "source": [
    "try:\n",
    "    num = 20\n",
    "    num1 = num/0\n",
    "    print(num1)\n",
    "except ZeroDivisionError as e:\n",
    "    print(f'Error type is : {e}')"
   ]
  },
  {
   "cell_type": "markdown",
   "id": "94bc1a1f",
   "metadata": {},
   "source": [
    "### 3. Which Python statements are used to catch and handle exceptions? Explain with an example."
   ]
  },
  {
   "cell_type": "code",
   "execution_count": 5,
   "id": "294ad8bc",
   "metadata": {},
   "outputs": [
    {
     "name": "stdout",
     "output_type": "stream",
     "text": [
      "Error type is : not writable\n",
      "This is finally block\n"
     ]
    }
   ],
   "source": [
    "try:\n",
    "    with open('test.txt','r') as file:\n",
    "        file.write(\"This file open in read mode\")\n",
    "except Exception as e:\n",
    "    print(f\"Error type is : {e}\")\n",
    "else:\n",
    "    print(\"This is else block run with try block\")\n",
    "finally:\n",
    "    print('This is finally block')"
   ]
  },
  {
   "cell_type": "markdown",
   "id": "f0e4c74d",
   "metadata": {},
   "source": [
    "### 4. Explain with an example:\n",
    "\n",
    "\n",
    "- a. try and else : eles execute after try execution, without try block, else block does not execute\n",
    "- b. finally : finally block execute in every time,\n",
    "- c. raise : raise is a keyword that is used to raise an exception manually by using Exception or any error class."
   ]
  },
  {
   "cell_type": "code",
   "execution_count": 6,
   "id": "029c8c5c",
   "metadata": {},
   "outputs": [
    {
     "name": "stdout",
     "output_type": "stream",
     "text": [
      "can only concatenate list (not \"tuple\") to list\n"
     ]
    }
   ],
   "source": [
    "try:\n",
    "    print([2,5,6,8]+(4,5.6))\n",
    "except TypeError as e:\n",
    "    print(e)\n",
    "else:\n",
    "    print('This will execute with try block')"
   ]
  },
  {
   "cell_type": "code",
   "execution_count": 7,
   "id": "403ac6c7",
   "metadata": {},
   "outputs": [
    {
     "name": "stdout",
     "output_type": "stream",
     "text": [
      "unsupported operand type(s) for +: 'int' and 'str'\n",
      "This is finally block\n"
     ]
    }
   ],
   "source": [
    "try:\n",
    "    print(90+'hello')\n",
    "except TypeError as e:\n",
    "    print(e)\n",
    "finally:\n",
    "    print(\"This is finally block\")"
   ]
  },
  {
   "cell_type": "code",
   "execution_count": 9,
   "id": "1850dc74",
   "metadata": {},
   "outputs": [
    {
     "name": "stdout",
     "output_type": "stream",
     "text": [
      "Enter your age : -23\n",
      "Age must be grater than 0\n"
     ]
    }
   ],
   "source": [
    "#raise example\n",
    "class getError(Exception):\n",
    "    pass\n",
    "try:\n",
    "    age = int(input(\"Enter your age : \"))\n",
    "    if age<0:\n",
    "        raise getError('Age must be grater than 0')\n",
    "except getError as e:\n",
    "    print(e)"
   ]
  },
  {
   "cell_type": "markdown",
   "id": "be0673ac",
   "metadata": {},
   "source": [
    "### 5. What are Custom Exceptions in python? Why do we need Custom Exceptions? Explain with an example."
   ]
  },
  {
   "cell_type": "markdown",
   "id": "3d361b01",
   "metadata": {},
   "source": [
    "- Python provide some classes to handle error manually or by user define, It is called custom exception.\n",
    "- In Python, we can define custom exceptions by creating a new class that is derived from the built-in Exception class.\n",
    "- When we are writing a large number of code in Python, it is a good practice to place all the user-defined exceptions that our program raises in a separate file.\n",
    "- Many standard modules define their exceptions separately as exceptions.py or errors.py.\n",
    "- When as exeception occurs, the program terminates suddenly.\n",
    "- Suddenly termination of program may corrupt the program\n",
    "- Execption may cause data loss form the database or a file."
   ]
  },
  {
   "cell_type": "code",
   "execution_count": 11,
   "id": "311caf8f",
   "metadata": {},
   "outputs": [
    {
     "name": "stdout",
     "output_type": "stream",
     "text": [
      "Enter your amount : 2000\n",
      "You are not eligible to withdraw this amount.\n"
     ]
    }
   ],
   "source": [
    "import logging\n",
    "logging.basicConfig(filename = 'test1.log', level = logging.DEBUG)\n",
    "\n",
    "class bankbalanceError(Exception):\n",
    "    \"\"\" my custom exception class \"\"\"\n",
    "try:\n",
    "    balance = 2300\n",
    "    withdraw = int(input(\"Enter your amount : \"))\n",
    "    if balance - withdraw <= 2000:\n",
    "        raise bankbalanceError('You are not eligible to withdraw this amount.')\n",
    "    else:\n",
    "        logging.info(balance - withdraw)\n",
    "except bankbalanceError as e:\n",
    "    print(e)"
   ]
  },
  {
   "cell_type": "markdown",
   "id": "a392fd73",
   "metadata": {},
   "source": [
    "### 6. Create a custom exception class. Use this class to handle an exception."
   ]
  },
  {
   "cell_type": "code",
   "execution_count": 13,
   "id": "c0efa8d8",
   "metadata": {},
   "outputs": [
    {
     "name": "stdout",
     "output_type": "stream",
     "text": [
      "Enter a your age : 44\n"
     ]
    }
   ],
   "source": [
    "import logging\n",
    "logging.basicConfig(filename = 'test2.log', level = logging.DEBUG)\n",
    "\n",
    "class InvalidAge(Exception):\n",
    "    \"Raised when the input value is less than 18\"\n",
    "    pass\n",
    "\n",
    "\n",
    "age = 18\n",
    "try:\n",
    "    input_age = int(input(\"Enter a your age : \"))\n",
    "    if input_age < age:\n",
    "        raise InvalidAge\n",
    "    else:\n",
    "        logging.info(\"Eligible to Vote\")\n",
    "        \n",
    "except InvalidAge:\n",
    "    logging.warning(\"Exception occurred: Invalid Age\")"
   ]
  },
  {
   "cell_type": "code",
   "execution_count": null,
   "id": "96510f50",
   "metadata": {},
   "outputs": [],
   "source": []
  }
 ],
 "metadata": {
  "kernelspec": {
   "display_name": "Python 3 (ipykernel)",
   "language": "python",
   "name": "python3"
  },
  "language_info": {
   "codemirror_mode": {
    "name": "ipython",
    "version": 3
   },
   "file_extension": ".py",
   "mimetype": "text/x-python",
   "name": "python",
   "nbconvert_exporter": "python",
   "pygments_lexer": "ipython3",
   "version": "3.9.12"
  }
 },
 "nbformat": 4,
 "nbformat_minor": 5
}
