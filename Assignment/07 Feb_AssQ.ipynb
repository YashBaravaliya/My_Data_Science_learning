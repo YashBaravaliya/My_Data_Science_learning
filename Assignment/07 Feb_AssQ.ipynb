{
 "cells": [
  {
   "cell_type": "markdown",
   "id": "cdacd453",
   "metadata": {},
   "source": [
    "Q1. You are writing code for a company. The requirement of the company is that you create a python function that will check whether the password entered by the user is correct or not. The function should take the password as input and return the string \"Valid Password\" if the entered password follows the below-given password guidelines else it should return \"Invalid Password\".\n",
    "\n",
    "Note:\n",
    "\n",
    "The Password should contain at least two uppercase letters and at least two lowercase letters.\n",
    "\n",
    "The Password should contain at least a number and three special characters.\n",
    "\n",
    "The length of the password should be 10 characters long"
   ]
  },
  {
   "cell_type": "code",
   "execution_count": 4,
   "id": "aad49507",
   "metadata": {},
   "outputs": [
    {
     "name": "stdout",
     "output_type": "stream",
     "text": [
      "Create your new password : AAfgf34#$%^as\n",
      "Valid Password\n"
     ]
    }
   ],
   "source": [
    "password = input(\"Create your new password : \")\n",
    "# password = \"OZWQQca514!@#\"\n",
    "def pass_verify(check):\n",
    "    upper_case = lower_case = numbers = special_char = ''\n",
    "    for i in password:\n",
    "        if 64<ord(i)<91:upper_case += i\n",
    "        elif 96<ord(i)<123:lower_case += i\n",
    "        elif 48<ord(i)<58:numbers += i\n",
    "        elif 32<ord(i)<48 or 58<ord(i)<65 or 91<ord(i)<97 or ord(i)>122:special_char +=i\n",
    "        else:pass\n",
    "    if len(upper_case) >= 2 and len(lower_case) >= 2 and len(numbers) >= 1 and len(special_char) >=3 and len(password) >= 10:\n",
    "        print('Valid Password')\n",
    "    else:\n",
    "        print('Invalid Password')\n",
    "pass_verify(password)\n"
   ]
  },
  {
   "cell_type": "code",
   "execution_count": null,
   "id": "5cd26035",
   "metadata": {},
   "outputs": [],
   "source": []
  },
  {
   "cell_type": "markdown",
   "id": "d77c296f",
   "metadata": {},
   "source": [
    "Q2. Solve the below-given questions using at least one of the following:\n",
    "\n",
    "Lambda function\n",
    "\n",
    "Filter function\n",
    "\n",
    "Map function\n",
    "\n",
    "List Comprehension\n",
    "\n",
    "Check if the string starts with a particular letter.\n",
    "\n",
    "Check if the string is numeric.\n",
    "\n",
    ".Sort a list of tuples having fruit names and their quantity. [ (\"mango\",99), (\"orange\",80), (\"grapes\", 1000)]\n",
    "\n",
    ".Find the squares of numbers from 1 to 10.\n",
    "\n",
    "Find the cube root of numbers from 1 to 10.\n",
    "\n",
    "Check if a given number is even.\n",
    "\n",
    "Filter odd numbers from the given list. [1,2,3,4,5,6,7,8,9,10]\n",
    "\n",
    "Sort a list of integers into positive and negative integers lists. [1,2,3,4,5,6,-1,-2,-3,-4,-5,0]\n",
    "\n",
    "1. Check if the string starts with a particular letter."
   ]
  },
  {
   "cell_type": "code",
   "execution_count": null,
   "id": "bfb22612",
   "metadata": {},
   "outputs": [],
   "source": []
  }
 ],
 "metadata": {
  "kernelspec": {
   "display_name": "Python 3 (ipykernel)",
   "language": "python",
   "name": "python3"
  },
  "language_info": {
   "codemirror_mode": {
    "name": "ipython",
    "version": 3
   },
   "file_extension": ".py",
   "mimetype": "text/x-python",
   "name": "python",
   "nbconvert_exporter": "python",
   "pygments_lexer": "ipython3",
   "version": "3.9.12"
  }
 },
 "nbformat": 4,
 "nbformat_minor": 5
}
