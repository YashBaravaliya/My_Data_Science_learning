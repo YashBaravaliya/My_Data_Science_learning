{
 "cells": [
  {
   "cell_type": "code",
   "execution_count": 2,
   "id": "064084e8",
   "metadata": {},
   "outputs": [
    {
     "name": "stdout",
     "output_type": "stream",
     "text": [
      "Collecting jupyter-tabnine\n",
      "  Downloading jupyter_tabnine-1.2.3-py2.py3-none-any.whl (21 kB)\n",
      "Requirement already satisfied: notebook>=4.2 in c:\\users\\barav\\anaconda3\\lib\\site-packages (from jupyter-tabnine) (6.4.8)\n",
      "Requirement already satisfied: jupyter-core in c:\\users\\barav\\anaconda3\\lib\\site-packages (from jupyter-tabnine) (4.9.2)\n",
      "Requirement already satisfied: ipython in c:\\users\\barav\\anaconda3\\lib\\site-packages (from jupyter-tabnine) (8.2.0)\n",
      "Requirement already satisfied: nbconvert in c:\\users\\barav\\anaconda3\\lib\\site-packages (from jupyter-tabnine) (6.4.4)\n",
      "Requirement already satisfied: ipython-genutils in c:\\users\\barav\\anaconda3\\lib\\site-packages (from notebook>=4.2->jupyter-tabnine) (0.2.0)\n",
      "Requirement already satisfied: ipykernel in c:\\users\\barav\\anaconda3\\lib\\site-packages (from notebook>=4.2->jupyter-tabnine) (6.9.1)\n",
      "Requirement already satisfied: nbformat in c:\\users\\barav\\anaconda3\\lib\\site-packages (from notebook>=4.2->jupyter-tabnine) (5.3.0)\n",
      "Requirement already satisfied: jinja2 in c:\\users\\barav\\anaconda3\\lib\\site-packages (from notebook>=4.2->jupyter-tabnine) (2.11.3)\n",
      "Requirement already satisfied: Send2Trash>=1.8.0 in c:\\users\\barav\\anaconda3\\lib\\site-packages (from notebook>=4.2->jupyter-tabnine) (1.8.0)\n",
      "Requirement already satisfied: nest-asyncio>=1.5 in c:\\users\\barav\\anaconda3\\lib\\site-packages (from notebook>=4.2->jupyter-tabnine) (1.5.5)\n",
      "Requirement already satisfied: prometheus-client in c:\\users\\barav\\anaconda3\\lib\\site-packages (from notebook>=4.2->jupyter-tabnine) (0.13.1)\n",
      "Requirement already satisfied: argon2-cffi in c:\\users\\barav\\anaconda3\\lib\\site-packages (from notebook>=4.2->jupyter-tabnine) (21.3.0)\n",
      "Requirement already satisfied: tornado>=6.1 in c:\\users\\barav\\anaconda3\\lib\\site-packages (from notebook>=4.2->jupyter-tabnine) (6.1)\n",
      "Requirement already satisfied: traitlets>=4.2.1 in c:\\users\\barav\\anaconda3\\lib\\site-packages (from notebook>=4.2->jupyter-tabnine) (5.1.1)\n",
      "Requirement already satisfied: jupyter-client>=5.3.4 in c:\\users\\barav\\anaconda3\\lib\\site-packages (from notebook>=4.2->jupyter-tabnine) (6.1.12)\n",
      "Requirement already satisfied: terminado>=0.8.3 in c:\\users\\barav\\anaconda3\\lib\\site-packages (from notebook>=4.2->jupyter-tabnine) (0.13.1)\n",
      "Requirement already satisfied: pyzmq>=17 in c:\\users\\barav\\anaconda3\\lib\\site-packages (from notebook>=4.2->jupyter-tabnine) (22.3.0)\n",
      "Requirement already satisfied: python-dateutil>=2.1 in c:\\users\\barav\\anaconda3\\lib\\site-packages (from jupyter-client>=5.3.4->notebook>=4.2->jupyter-tabnine) (2.8.2)\n",
      "Requirement already satisfied: pywin32>=1.0 in c:\\users\\barav\\anaconda3\\lib\\site-packages (from jupyter-core->jupyter-tabnine) (302)\n",
      "Requirement already satisfied: six>=1.5 in c:\\users\\barav\\anaconda3\\lib\\site-packages (from python-dateutil>=2.1->jupyter-client>=5.3.4->notebook>=4.2->jupyter-tabnine) (1.16.0)\n",
      "Requirement already satisfied: pywinpty>=1.1.0 in c:\\users\\barav\\anaconda3\\lib\\site-packages (from terminado>=0.8.3->notebook>=4.2->jupyter-tabnine) (2.0.2)\n",
      "Requirement already satisfied: argon2-cffi-bindings in c:\\users\\barav\\anaconda3\\lib\\site-packages (from argon2-cffi->notebook>=4.2->jupyter-tabnine) (21.2.0)\n",
      "Requirement already satisfied: cffi>=1.0.1 in c:\\users\\barav\\anaconda3\\lib\\site-packages (from argon2-cffi-bindings->argon2-cffi->notebook>=4.2->jupyter-tabnine) (1.15.0)\n",
      "Requirement already satisfied: pycparser in c:\\users\\barav\\anaconda3\\lib\\site-packages (from cffi>=1.0.1->argon2-cffi-bindings->argon2-cffi->notebook>=4.2->jupyter-tabnine) (2.21)\n",
      "Requirement already satisfied: debugpy<2.0,>=1.0.0 in c:\\users\\barav\\anaconda3\\lib\\site-packages (from ipykernel->notebook>=4.2->jupyter-tabnine) (1.5.1)\n",
      "Requirement already satisfied: matplotlib-inline<0.2.0,>=0.1.0 in c:\\users\\barav\\anaconda3\\lib\\site-packages (from ipykernel->notebook>=4.2->jupyter-tabnine) (0.1.2)\n",
      "Requirement already satisfied: prompt-toolkit!=3.0.0,!=3.0.1,<3.1.0,>=2.0.0 in c:\\users\\barav\\anaconda3\\lib\\site-packages (from ipython->jupyter-tabnine) (3.0.20)\n",
      "Requirement already satisfied: colorama in c:\\users\\barav\\anaconda3\\lib\\site-packages (from ipython->jupyter-tabnine) (0.4.4)\n",
      "Requirement already satisfied: backcall in c:\\users\\barav\\anaconda3\\lib\\site-packages (from ipython->jupyter-tabnine) (0.2.0)\n",
      "Requirement already satisfied: jedi>=0.16 in c:\\users\\barav\\anaconda3\\lib\\site-packages (from ipython->jupyter-tabnine) (0.18.1)\n",
      "Requirement already satisfied: pickleshare in c:\\users\\barav\\anaconda3\\lib\\site-packages (from ipython->jupyter-tabnine) (0.7.5)\n",
      "Requirement already satisfied: pygments>=2.4.0 in c:\\users\\barav\\anaconda3\\lib\\site-packages (from ipython->jupyter-tabnine) (2.11.2)\n",
      "Requirement already satisfied: setuptools>=18.5 in c:\\users\\barav\\anaconda3\\lib\\site-packages (from ipython->jupyter-tabnine) (61.2.0)\n",
      "Requirement already satisfied: decorator in c:\\users\\barav\\anaconda3\\lib\\site-packages (from ipython->jupyter-tabnine) (5.1.1)\n",
      "Requirement already satisfied: stack-data in c:\\users\\barav\\anaconda3\\lib\\site-packages (from ipython->jupyter-tabnine) (0.2.0)\n",
      "Requirement already satisfied: parso<0.9.0,>=0.8.0 in c:\\users\\barav\\anaconda3\\lib\\site-packages (from jedi>=0.16->ipython->jupyter-tabnine) (0.8.3)\n",
      "Requirement already satisfied: wcwidth in c:\\users\\barav\\anaconda3\\lib\\site-packages (from prompt-toolkit!=3.0.0,!=3.0.1,<3.1.0,>=2.0.0->ipython->jupyter-tabnine) (0.2.5)\n",
      "Requirement already satisfied: MarkupSafe>=0.23 in c:\\users\\barav\\anaconda3\\lib\\site-packages (from jinja2->notebook>=4.2->jupyter-tabnine) (2.0.1)\n",
      "Requirement already satisfied: pandocfilters>=1.4.1 in c:\\users\\barav\\anaconda3\\lib\\site-packages (from nbconvert->jupyter-tabnine) (1.5.0)\n",
      "Requirement already satisfied: testpath in c:\\users\\barav\\anaconda3\\lib\\site-packages (from nbconvert->jupyter-tabnine) (0.5.0)\n",
      "Requirement already satisfied: mistune<2,>=0.8.1 in c:\\users\\barav\\anaconda3\\lib\\site-packages (from nbconvert->jupyter-tabnine) (0.8.4)\n",
      "Requirement already satisfied: jupyterlab-pygments in c:\\users\\barav\\anaconda3\\lib\\site-packages (from nbconvert->jupyter-tabnine) (0.1.2)\n",
      "Requirement already satisfied: entrypoints>=0.2.2 in c:\\users\\barav\\anaconda3\\lib\\site-packages (from nbconvert->jupyter-tabnine) (0.4)\n",
      "Requirement already satisfied: bleach in c:\\users\\barav\\anaconda3\\lib\\site-packages (from nbconvert->jupyter-tabnine) (4.1.0)\n",
      "Requirement already satisfied: defusedxml in c:\\users\\barav\\anaconda3\\lib\\site-packages (from nbconvert->jupyter-tabnine) (0.7.1)\n",
      "Requirement already satisfied: beautifulsoup4 in c:\\users\\barav\\anaconda3\\lib\\site-packages (from nbconvert->jupyter-tabnine) (4.11.1)\n",
      "Requirement already satisfied: nbclient<0.6.0,>=0.5.0 in c:\\users\\barav\\anaconda3\\lib\\site-packages (from nbconvert->jupyter-tabnine) (0.5.13)\n",
      "Requirement already satisfied: jsonschema>=2.6 in c:\\users\\barav\\anaconda3\\lib\\site-packages (from nbformat->notebook>=4.2->jupyter-tabnine) (4.4.0)\n",
      "Requirement already satisfied: fastjsonschema in c:\\users\\barav\\anaconda3\\lib\\site-packages (from nbformat->notebook>=4.2->jupyter-tabnine) (2.15.1)\n",
      "Requirement already satisfied: pyrsistent!=0.17.0,!=0.17.1,!=0.17.2,>=0.14.0 in c:\\users\\barav\\anaconda3\\lib\\site-packages (from jsonschema>=2.6->nbformat->notebook>=4.2->jupyter-tabnine) (0.18.0)\n",
      "Requirement already satisfied: attrs>=17.4.0 in c:\\users\\barav\\anaconda3\\lib\\site-packages (from jsonschema>=2.6->nbformat->notebook>=4.2->jupyter-tabnine) (21.4.0)\n",
      "Requirement already satisfied: soupsieve>1.2 in c:\\users\\barav\\anaconda3\\lib\\site-packages (from beautifulsoup4->nbconvert->jupyter-tabnine) (2.3.1)\n",
      "Requirement already satisfied: webencodings in c:\\users\\barav\\anaconda3\\lib\\site-packages (from bleach->nbconvert->jupyter-tabnine) (0.5.1)\n",
      "Requirement already satisfied: packaging in c:\\users\\barav\\anaconda3\\lib\\site-packages (from bleach->nbconvert->jupyter-tabnine) (21.3)\n",
      "Requirement already satisfied: pyparsing!=3.0.5,>=2.0.2 in c:\\users\\barav\\anaconda3\\lib\\site-packages (from packaging->bleach->nbconvert->jupyter-tabnine) (3.0.4)\n",
      "Requirement already satisfied: executing in c:\\users\\barav\\anaconda3\\lib\\site-packages (from stack-data->ipython->jupyter-tabnine) (0.8.3)\n",
      "Requirement already satisfied: pure-eval in c:\\users\\barav\\anaconda3\\lib\\site-packages (from stack-data->ipython->jupyter-tabnine) (0.2.2)\n",
      "Requirement already satisfied: asttokens in c:\\users\\barav\\anaconda3\\lib\\site-packages (from stack-data->ipython->jupyter-tabnine) (2.0.5)\n",
      "Installing collected packages: jupyter-tabnine\n",
      "Successfully installed jupyter-tabnine-1.2.3\n"
     ]
    }
   ],
   "source": [
    "!pip3 install jupyter-tabnine"
   ]
  },
  {
   "cell_type": "code",
   "execution_count": 3,
   "id": "b5ac2639",
   "metadata": {},
   "outputs": [],
   "source": [
    "import requests\n",
    "from bs4 import BeautifulSoup as bs\n",
    "from urllib.request import urlopen as uReq\n",
    "import logging"
   ]
  },
  {
   "cell_type": "code",
   "execution_count": 4,
   "id": "84b795ae",
   "metadata": {},
   "outputs": [],
   "source": [
    "flipkart_url = \"https://www.flipkart.com/search?q=\" + \"iphone11\""
   ]
  },
  {
   "cell_type": "code",
   "execution_count": 45,
   "id": "822ced06",
   "metadata": {},
   "outputs": [
    {
     "data": {
      "text/plain": [
       "'https://www.flipkart.com/search?q=iphone11'"
      ]
     },
     "execution_count": 45,
     "metadata": {},
     "output_type": "execute_result"
    }
   ],
   "source": [
    "flipkart_url"
   ]
  },
  {
   "cell_type": "code",
   "execution_count": 46,
   "id": "bd6a56b0",
   "metadata": {},
   "outputs": [],
   "source": [
    "urlCliebnt = uReq(flipkart_url)"
   ]
  },
  {
   "cell_type": "code",
   "execution_count": 47,
   "id": "73d7deca",
   "metadata": {},
   "outputs": [
    {
     "data": {
      "text/plain": [
       "<http.client.HTTPResponse at 0x278b37095e0>"
      ]
     },
     "execution_count": 47,
     "metadata": {},
     "output_type": "execute_result"
    }
   ],
   "source": [
    "urlCliebnt"
   ]
  },
  {
   "cell_type": "code",
   "execution_count": 48,
   "id": "fd4af102",
   "metadata": {},
   "outputs": [],
   "source": [
    "flipcard_page = urlCliebnt.read()"
   ]
  },
  {
   "cell_type": "code",
   "execution_count": 49,
   "id": "18db8706",
   "metadata": {},
   "outputs": [],
   "source": [
    "flipcard_html = bs(flipcard_page,'html.parser')"
   ]
  },
  {
   "cell_type": "code",
   "execution_count": 50,
   "id": "a6d29db3",
   "metadata": {},
   "outputs": [],
   "source": [
    "bigbox = flipcard_html.findAll(\"div\",{\"class\":\"_1AtVbE col-12-12\"})"
   ]
  },
  {
   "cell_type": "code",
   "execution_count": 51,
   "id": "cc681c87",
   "metadata": {},
   "outputs": [
    {
     "data": {
      "text/plain": [
       "30"
      ]
     },
     "execution_count": 51,
     "metadata": {},
     "output_type": "execute_result"
    }
   ],
   "source": [
    "len(bigbox)"
   ]
  },
  {
   "cell_type": "code",
   "execution_count": 61,
   "id": "144cec76",
   "metadata": {},
   "outputs": [],
   "source": [
    "del bigbox[0:3]"
   ]
  },
  {
   "cell_type": "code",
   "execution_count": 180,
   "id": "b1a175ce",
   "metadata": {},
   "outputs": [],
   "source": [
    "product_link = \"https://www.flipkart.com\" + bigbox[0].div.div.div.a['href']"
   ]
  },
  {
   "cell_type": "code",
   "execution_count": 181,
   "id": "c0ad3083",
   "metadata": {},
   "outputs": [],
   "source": [
    "product_req = requests.get(product_link)"
   ]
  },
  {
   "cell_type": "code",
   "execution_count": 182,
   "id": "ef41a64f",
   "metadata": {},
   "outputs": [],
   "source": [
    "product_html =  bs(product_req.text,'html.parser')"
   ]
  },
  {
   "cell_type": "code",
   "execution_count": 254,
   "id": "0b9b58f2",
   "metadata": {},
   "outputs": [],
   "source": [
    "comment_box = procuct_html.find_all(\"div\",{\"class\":\"_16PBlm\"})"
   ]
  },
  {
   "cell_type": "code",
   "execution_count": 255,
   "id": "60ad023c",
   "metadata": {},
   "outputs": [
    {
     "data": {
      "text/plain": [
       "11"
      ]
     },
     "execution_count": 255,
     "metadata": {},
     "output_type": "execute_result"
    }
   ],
   "source": [
    "len(comment_box)"
   ]
  },
  {
   "cell_type": "code",
   "execution_count": 256,
   "id": "743dad47",
   "metadata": {},
   "outputs": [
    {
     "data": {
      "text/plain": [
       "'Flipkart Customer'"
      ]
     },
     "execution_count": 256,
     "metadata": {},
     "output_type": "execute_result"
    }
   ],
   "source": [
    "comment_box[0].div.find_all(\"p\",{\"class\":\"_2sc7ZR _2V5EHH\"})[0].text"
   ]
  },
  {
   "cell_type": "code",
   "execution_count": 263,
   "id": "da1beee3",
   "metadata": {},
   "outputs": [
    {
     "name": "stdout",
     "output_type": "stream",
     "text": [
      "Flipkart Customer\n",
      "Flipkart Customer\n",
      "Manish Raghuvanshi\n",
      "George Haokip\n",
      "Jimly  Gogoi\n",
      "Vamshi  Chakrala \n",
      "Chirag Rajput\n",
      "Vishal Dubey\n",
      "vijay hegde\n",
      "Rahul Verma\n"
     ]
    },
    {
     "ename": "AttributeError",
     "evalue": "'NoneType' object has no attribute 'find_all'",
     "output_type": "error",
     "traceback": [
      "\u001b[1;31m---------------------------------------------------------------------------\u001b[0m",
      "\u001b[1;31mAttributeError\u001b[0m                            Traceback (most recent call last)",
      "Input \u001b[1;32mIn [263]\u001b[0m, in \u001b[0;36m<cell line: 1>\u001b[1;34m()\u001b[0m\n\u001b[0;32m      1\u001b[0m \u001b[38;5;28;01mfor\u001b[39;00m i \u001b[38;5;129;01min\u001b[39;00m comment_box:\n\u001b[1;32m----> 2\u001b[0m     \u001b[38;5;28mprint\u001b[39m(\u001b[43mi\u001b[49m\u001b[38;5;241;43m.\u001b[39;49m\u001b[43mdiv\u001b[49m\u001b[38;5;241;43m.\u001b[39;49m\u001b[43mfind_all\u001b[49m(\u001b[38;5;124m\"\u001b[39m\u001b[38;5;124mp\u001b[39m\u001b[38;5;124m\"\u001b[39m,{\u001b[38;5;124m\"\u001b[39m\u001b[38;5;124mclass\u001b[39m\u001b[38;5;124m\"\u001b[39m:\u001b[38;5;124m\"\u001b[39m\u001b[38;5;124m_2sc7ZR _2V5EHH\u001b[39m\u001b[38;5;124m\"\u001b[39m})[\u001b[38;5;241m0\u001b[39m]\u001b[38;5;241m.\u001b[39mtext)\n",
      "\u001b[1;31mAttributeError\u001b[0m: 'NoneType' object has no attribute 'find_all'"
     ]
    }
   ],
   "source": [
    "for i in comment_box:\n",
    "    print(i.div.find_all(\"p\",{\"class\":\"_2sc7ZR _2V5EHH\"})[0].text)"
   ]
  },
  {
   "cell_type": "code",
   "execution_count": 268,
   "id": "d4f98374",
   "metadata": {},
   "outputs": [
    {
     "name": "stdout",
     "output_type": "stream",
     "text": [
      "5\n",
      "5\n",
      "5\n",
      "4\n",
      "5\n",
      "5\n",
      "5\n",
      "5\n",
      "4\n",
      "5\n"
     ]
    },
    {
     "ename": "AttributeError",
     "evalue": "'NoneType' object has no attribute 'div'",
     "output_type": "error",
     "traceback": [
      "\u001b[1;31m---------------------------------------------------------------------------\u001b[0m",
      "\u001b[1;31mAttributeError\u001b[0m                            Traceback (most recent call last)",
      "Input \u001b[1;32mIn [268]\u001b[0m, in \u001b[0;36m<cell line: 1>\u001b[1;34m()\u001b[0m\n\u001b[0;32m      1\u001b[0m \u001b[38;5;28;01mfor\u001b[39;00m i \u001b[38;5;129;01min\u001b[39;00m comment_box:\n\u001b[1;32m----> 2\u001b[0m     \u001b[38;5;28mprint\u001b[39m(\u001b[43mi\u001b[49m\u001b[38;5;241;43m.\u001b[39;49m\u001b[43mdiv\u001b[49m\u001b[38;5;241;43m.\u001b[39;49m\u001b[43mdiv\u001b[49m\u001b[38;5;241m.\u001b[39mdiv\u001b[38;5;241m.\u001b[39mdiv\u001b[38;5;241m.\u001b[39mtext)\n",
      "\u001b[1;31mAttributeError\u001b[0m: 'NoneType' object has no attribute 'div'"
     ]
    }
   ],
   "source": [
    "for i in comment_box:\n",
    "    print(i.div.div.div.div.text)"
   ]
  },
  {
   "cell_type": "code",
   "execution_count": 279,
   "id": "3a77af7e",
   "metadata": {},
   "outputs": [
    {
     "data": {
      "text/plain": [
       "'Really satisfied with the Product I received... It’s totally genuine and the packaging was also really good so if ur planning to buy just go for it.READ MORE'"
      ]
     },
     "execution_count": 279,
     "metadata": {},
     "output_type": "execute_result"
    }
   ],
   "source": [
    "comment_box[0].div.div.find_all(\"div\",{\"class\":\"t-ZTKy\"})[0].text"
   ]
  },
  {
   "cell_type": "code",
   "execution_count": 283,
   "id": "2464d358",
   "metadata": {},
   "outputs": [
    {
     "data": {
      "text/plain": [
       "'Really satisfied with the Product I received... It’s totally genuine and the packaging was also really good so if ur planning to buy just go for it.'"
      ]
     },
     "execution_count": 283,
     "metadata": {},
     "output_type": "execute_result"
    }
   ],
   "source": [
    "comment_box[0].div.div.find_all(\"div\",{\"class\":''})[0].div.text"
   ]
  },
  {
   "cell_type": "code",
   "execution_count": 284,
   "id": "2d2a5bb7",
   "metadata": {},
   "outputs": [
    {
     "name": "stdout",
     "output_type": "stream",
     "text": [
      "Really satisfied with the Product I received... It’s totally genuine and the packaging was also really good so if ur planning to buy just go for it.\n",
      "Amazing phone with great cameras and better battery which gives you the best performance. I just love the camera .\n",
      "Great iPhone very snappy experience as apple kind. Upgraded from iPhone 7. Pros-Camera top class - Battery top performed -Chipset no need to say as apple kind -Security as you expect from apple - Display super bright industry leading colour   accuracy and super responsive -Build quality as expect from apple sturdy  premium durable beautiful stylish. -Os most stable os in smartphone industry Cons -No 5G-Display is not based on OLED technology -Charger headphones and 1 apple stic...\n",
      "I'm Really happy with the productDelivery was fast as well..it was a gift for my sister and she loved it so much.\n",
      "It's my first time to use iOS phone and I am loving my upgradation 😍😍 I love the color, I love the assebility of the phone....I need to learn more about its functionality, but as far as I have seen, it's quite easy and it has a lot of functions to work on, specially if you are a content writer or a blogger you get a lot of content creation platforms and they are really amazing. This phone not only for good quality photography but a lot of other task too.😍💯\n",
      "Previously I was using one plus 3t it was a great phone And then I decided to upgrade I am stuck between Samsung s10 plus or iPhone 11 I have seen the specs and everything were good except the display it’s somewhere between 720-1080 and it’s not even an amoled it’s an LCD display But I decided to go with iPhone because I have never used an IOS device I have Been an android user from the past 9 years I ordered IPhone 11 (128gb) product redMy experience after using 3 weeks 1. The delivery ...\n",
      "Value for money5 star rating Excellent cameraBattery backup full day in single charge.Tougher and water resistant design, glossy back.The screen has excellent brightness and contrast.Apple A13 Bionic is the fastest smartphone chip on the planet.Excellent battery life, fast charging support.Stereo speakers with great quality.\n",
      "What a camera .....just awesome ..you can feel this iPhone just awesome . Good for gaming also ...try pubg in hd it’s just wow\n",
      "I was using Iphone 6s and also Oneplus 6t. Both mobiles were perfectly alright in Photos, gaming, and smooth interface . My 6s mobile getting battery issue. thought upgrade to 11. Really like this mobile of its Internal storage (compare to 6s) , camera and its touch feeling. Its a worth buying mobile for me.\n",
      "Amazing Powerful and Durable Gadget.I’m am very happy with the camera picture quality, Amazing face id unlocked in dark room, Strong battery with perfect screen size as you can carry easily in pocket. This is my third iPhone. I shifted from android Samsung Note series to iPhone because of the strong build quality and peace of mind for next 3-4 years.Don’t think to much just go for it and I suggest you to go for minimum 128gb variant or more 256gb. I’ve attached my puppy pics and no fi...\n"
     ]
    },
    {
     "ename": "AttributeError",
     "evalue": "'NoneType' object has no attribute 'div'",
     "output_type": "error",
     "traceback": [
      "\u001b[1;31m---------------------------------------------------------------------------\u001b[0m",
      "\u001b[1;31mAttributeError\u001b[0m                            Traceback (most recent call last)",
      "Input \u001b[1;32mIn [284]\u001b[0m, in \u001b[0;36m<cell line: 1>\u001b[1;34m()\u001b[0m\n\u001b[0;32m      1\u001b[0m \u001b[38;5;28;01mfor\u001b[39;00m i \u001b[38;5;129;01min\u001b[39;00m comment_box:\n\u001b[1;32m----> 2\u001b[0m     \u001b[38;5;28mprint\u001b[39m(\u001b[43mi\u001b[49m\u001b[38;5;241;43m.\u001b[39;49m\u001b[43mdiv\u001b[49m\u001b[38;5;241;43m.\u001b[39;49m\u001b[43mdiv\u001b[49m\u001b[38;5;241m.\u001b[39mfind_all(\u001b[38;5;124m\"\u001b[39m\u001b[38;5;124mdiv\u001b[39m\u001b[38;5;124m\"\u001b[39m,{\u001b[38;5;124m\"\u001b[39m\u001b[38;5;124mclass\u001b[39m\u001b[38;5;124m\"\u001b[39m:\u001b[38;5;124m'\u001b[39m\u001b[38;5;124m'\u001b[39m})[\u001b[38;5;241m0\u001b[39m]\u001b[38;5;241m.\u001b[39mdiv\u001b[38;5;241m.\u001b[39mtext)\n",
      "\u001b[1;31mAttributeError\u001b[0m: 'NoneType' object has no attribute 'div'"
     ]
    }
   ],
   "source": [
    "for i in comment_box:\n",
    "    print(i.div.div.find_all(\"div\",{\"class\":''})[0].div.text)"
   ]
  },
  {
   "cell_type": "code",
   "execution_count": 64,
   "id": "a437c571",
   "metadata": {},
   "outputs": [
    {
     "name": "stdout",
     "output_type": "stream",
     "text": [
      "https://www.flipkart.com/apple-iphone-11-white-64-gb/p/itmfc6a7091eb20b?pid=MOBFWQ6BVWVEH3XE&lid=LSTMOBFWQ6BVWVEH3XEMXQMLO&marketplace=FLIPKART&q=iphone11&store=tyy%2F4io&srno=s_1_2&otracker=search&fm=organic&iid=e39f9f48-4974-4056-9f93-82e2f70d7569.MOBFWQ6BVWVEH3XE.SEARCH&ppt=None&ppn=None&ssid=t7k6umvhcg0000001677056408039&qH=d6db477051465f9a\n",
      "https://www.flipkart.com/apple-iphone-11-black-64-gb/p/itm4e5041ba101fd?pid=MOBFWQ6BXGJCEYNY&lid=LSTMOBFWQ6BXGJCEYNYZXSHRJ&marketplace=FLIPKART&q=iphone11&store=tyy%2F4io&srno=s_1_3&otracker=search&fm=organic&iid=e39f9f48-4974-4056-9f93-82e2f70d7569.MOBFWQ6BXGJCEYNY.SEARCH&ppt=None&ppn=None&ssid=t7k6umvhcg0000001677056408039&qH=d6db477051465f9a\n",
      "https://www.flipkart.com/apple-iphone-11-black-128-gb/p/itm8244e8d955aba?pid=MOBFWQ6BKRYBP5X8&lid=LSTMOBFWQ6BKRYBP5X8IBG6BS&marketplace=FLIPKART&q=iphone11&store=tyy%2F4io&srno=s_1_4&otracker=search&fm=organic&iid=e39f9f48-4974-4056-9f93-82e2f70d7569.MOBFWQ6BKRYBP5X8.SEARCH&ppt=None&ppn=None&ssid=t7k6umvhcg0000001677056408039&qH=d6db477051465f9a\n",
      "https://www.flipkart.com/apple-iphone-11-red-128-gb/p/itm8d14bd0e33a1c?pid=MOBFWQ6BEZTNK59G&lid=LSTMOBFWQ6BEZTNK59G4PTPDM&marketplace=FLIPKART&q=iphone11&store=tyy%2F4io&srno=s_1_5&otracker=search&fm=organic&iid=e39f9f48-4974-4056-9f93-82e2f70d7569.MOBFWQ6BEZTNK59G.SEARCH&ppt=None&ppn=None&ssid=t7k6umvhcg0000001677056408039&qH=d6db477051465f9a\n",
      "https://www.flipkart.com/apple-iphone-11-red-64-gb/p/itmc3935326f2feb?pid=MOBFWQ6BYYV3FCU7&lid=LSTMOBFWQ6BYYV3FCU7ZCY7Y9&marketplace=FLIPKART&q=iphone11&store=tyy%2F4io&srno=s_1_6&otracker=search&fm=organic&iid=e39f9f48-4974-4056-9f93-82e2f70d7569.MOBFWQ6BYYV3FCU7.SEARCH&ppt=None&ppn=None&ssid=t7k6umvhcg0000001677056408039&qH=d6db477051465f9a\n",
      "https://www.flipkart.com/apple-iphone-11-green-64-gb/p/itm386a85013a3d1?pid=MOBFWQ6BHPMG29QM&lid=LSTMOBFWQ6BHPMG29QMSPPOYD&marketplace=FLIPKART&q=iphone11&store=tyy%2F4io&srno=s_1_7&otracker=search&fm=organic&iid=e39f9f48-4974-4056-9f93-82e2f70d7569.MOBFWQ6BHPMG29QM.SEARCH&ppt=None&ppn=None&ssid=t7k6umvhcg0000001677056408039&qH=d6db477051465f9a\n",
      "https://www.flipkart.com/apple-iphone-11-yellow-64-gb/p/itm39b1a0ba9ddcb?pid=MOBFWQ6BWGX9VRFS&lid=LSTMOBFWQ6BWGX9VRFSWZG0HT&marketplace=FLIPKART&q=iphone11&store=tyy%2F4io&srno=s_1_8&otracker=search&fm=organic&iid=e39f9f48-4974-4056-9f93-82e2f70d7569.MOBFWQ6BWGX9VRFS.SEARCH&ppt=None&ppn=None&ssid=t7k6umvhcg0000001677056408039&qH=d6db477051465f9a\n",
      "https://www.flipkart.com/apple-iphone-11-purple-128-gb/p/itmb7ca0b05522ff?pid=MOBFWQ6BEHFXGXGB&lid=LSTMOBFWQ6BEHFXGXGBIS2J2K&marketplace=FLIPKART&q=iphone11&store=tyy%2F4io&srno=s_1_9&otracker=search&fm=organic&iid=e39f9f48-4974-4056-9f93-82e2f70d7569.MOBFWQ6BEHFXGXGB.SEARCH&ppt=None&ppn=None&ssid=t7k6umvhcg0000001677056408039&qH=d6db477051465f9a\n",
      "https://www.flipkart.com/apple-iphone-11-purple-64-gb/p/itm2b8d03427ddac?pid=MOBFWQ6BTFFJKGKE&lid=LSTMOBFWQ6BTFFJKGKEPHMT2V&marketplace=FLIPKART&q=iphone11&store=tyy%2F4io&srno=s_1_10&otracker=search&fm=organic&iid=e39f9f48-4974-4056-9f93-82e2f70d7569.MOBFWQ6BTFFJKGKE.SEARCH&ppt=None&ppn=None&ssid=t7k6umvhcg0000001677056408039&qH=d6db477051465f9a\n",
      "https://www.flipkart.com/apple-iphone-11-yellow-128-gb/p/itm7030edc9e100e?pid=MOBFWQ6BWTSBJSHY&lid=LSTMOBFWQ6BWTSBJSHYJG1Q5J&marketplace=FLIPKART&q=iphone11&store=tyy%2F4io&srno=s_1_11&otracker=search&fm=organic&iid=e39f9f48-4974-4056-9f93-82e2f70d7569.MOBFWQ6BWTSBJSHY.SEARCH&ppt=None&ppn=None&ssid=t7k6umvhcg0000001677056408039&qH=d6db477051465f9a\n",
      "https://www.flipkart.com/apple-iphone-11-green-128-gb/p/itm97529bbf640ca?pid=MOBFWQ6BHBKMH4BF&lid=LSTMOBFWQ6BHBKMH4BFPOHIFL&marketplace=FLIPKART&q=iphone11&store=tyy%2F4io&srno=s_1_12&otracker=search&fm=organic&iid=e39f9f48-4974-4056-9f93-82e2f70d7569.MOBFWQ6BHBKMH4BF.SEARCH&ppt=None&ppn=None&ssid=t7k6umvhcg0000001677056408039&qH=d6db477051465f9a\n",
      "https://www.flipkart.com/apple-iphone-6-space-grey-16-gb/p/itmefjg7mzcwjyhk?pid=MOBEYHZ2YAXZMF2J&lid=LSTMOBEYHZ2YAXZMF2JEVWVNC&marketplace=FLIPKART&q=iphone11&store=tyy%2F4io&srno=s_1_13&otracker=search&fm=organic&iid=e39f9f48-4974-4056-9f93-82e2f70d7569.MOBEYHZ2YAXZMF2J.SEARCH&ppt=None&ppn=None&ssid=t7k6umvhcg0000001677056408039&qH=d6db477051465f9a\n",
      "https://www.flipkart.com/apple-iphone-11-pro-max-space-grey-64-gb/p/itme0101031155f8?pid=MOBFKCTSKDMKCGQS&lid=LSTMOBFKCTSKDMKCGQSOYFAJN&marketplace=FLIPKART&q=iphone11&store=tyy%2F4io&srno=s_1_14&otracker=search&fm=organic&iid=e39f9f48-4974-4056-9f93-82e2f70d7569.MOBFKCTSKDMKCGQS.SEARCH&ppt=None&ppn=None&ssid=t7k6umvhcg0000001677056408039&qH=d6db477051465f9a\n",
      "https://www.flipkart.com/apple-iphone-11-pro-max-midnight-green-64-gb/p/itmab1763b5ca244?pid=MOBFKCTSRYPAQNYT&lid=LSTMOBFKCTSRYPAQNYTHKCI74&marketplace=FLIPKART&q=iphone11&store=tyy%2F4io&srno=s_1_15&otracker=search&fm=organic&iid=e39f9f48-4974-4056-9f93-82e2f70d7569.MOBFKCTSRYPAQNYT.SEARCH&ppt=None&ppn=None&ssid=t7k6umvhcg0000001677056408039&qH=d6db477051465f9a\n",
      "https://www.flipkart.com/apple-iphone-11-pro-silver-256-gb/p/itm08eae2709cac6?pid=MOBFKCTST7PU7BWR&lid=LSTMOBFKCTST7PU7BWRAQB29Z&marketplace=FLIPKART&q=iphone11&store=tyy%2F4io&srno=s_1_16&otracker=search&fm=organic&iid=e39f9f48-4974-4056-9f93-82e2f70d7569.MOBFKCTST7PU7BWR.SEARCH&ppt=None&ppn=None&ssid=t7k6umvhcg0000001677056408039&qH=d6db477051465f9a\n",
      "https://www.flipkart.com/apple-iphone-11-pro-midnight-green-64-gb/p/itm471de0d2e8474?pid=MOBFKCTSN3TG3RFJ&lid=LSTMOBFKCTSN3TG3RFJS8GACU&marketplace=FLIPKART&q=iphone11&store=tyy%2F4io&srno=s_1_17&otracker=search&fm=organic&iid=e39f9f48-4974-4056-9f93-82e2f70d7569.MOBFKCTSN3TG3RFJ.SEARCH&ppt=None&ppn=None&ssid=t7k6umvhcg0000001677056408039&qH=d6db477051465f9a\n",
      "https://www.flipkart.com/apple-iphone-11-pro-gold-256-gb/p/itm2f0572b22cfc6?pid=MOBFKCTS8EGRZSAN&lid=LSTMOBFKCTS8EGRZSANWZFTRD&marketplace=FLIPKART&q=iphone11&store=tyy%2F4io&srno=s_1_18&otracker=search&fm=organic&iid=e39f9f48-4974-4056-9f93-82e2f70d7569.MOBFKCTS8EGRZSAN.SEARCH&ppt=None&ppn=None&ssid=t7k6umvhcg0000001677056408039&qH=d6db477051465f9a\n",
      "https://www.flipkart.com/apple-iphone-11-pro-max-silver-256-gb/p/itm90a95d4c7bfb4?pid=MOBFKCTSVH4EWXBV&lid=LSTMOBFKCTSVH4EWXBVDOFYMD&marketplace=FLIPKART&q=iphone11&store=tyy%2F4io&srno=s_1_19&otracker=search&fm=organic&iid=e39f9f48-4974-4056-9f93-82e2f70d7569.MOBFKCTSVH4EWXBV.SEARCH&ppt=None&ppn=None&ssid=t7k6umvhcg0000001677056408039&qH=d6db477051465f9a\n",
      "https://www.flipkart.com/apple-iphone-11-pro-space-grey-256-gb/p/itmbecef22a95790?pid=MOBFKCTSWGYSAS9X&lid=LSTMOBFKCTSWGYSAS9X2RHASU&marketplace=FLIPKART&q=iphone11&store=tyy%2F4io&srno=s_1_20&otracker=search&fm=organic&iid=e39f9f48-4974-4056-9f93-82e2f70d7569.MOBFKCTSWGYSAS9X.SEARCH&ppt=None&ppn=None&ssid=t7k6umvhcg0000001677056408039&qH=d6db477051465f9a\n",
      "https://www.flipkart.com/apple-iphone-11-pro-max-gold-64-gb/p/itm6ef18218efdf6?pid=MOBFKCTSAPAYNSGG&lid=LSTMOBFKCTSAPAYNSGGQSSR46&marketplace=FLIPKART&q=iphone11&store=tyy%2F4io&srno=s_1_21&otracker=search&fm=organic&iid=e39f9f48-4974-4056-9f93-82e2f70d7569.MOBFKCTSAPAYNSGG.SEARCH&ppt=None&ppn=None&ssid=t7k6umvhcg0000001677056408039&qH=d6db477051465f9a\n",
      "https://www.flipkart.com/apple-iphone-11-pro-max-silver-512-gb/p/itmd4aeaf1585645?pid=MOBFKCTSGQWSAKDG&lid=LSTMOBFKCTSGQWSAKDGBKDFSB&marketplace=FLIPKART&q=iphone11&store=tyy%2F4io&srno=s_1_22&otracker=search&fm=organic&iid=e39f9f48-4974-4056-9f93-82e2f70d7569.MOBFKCTSGQWSAKDG.SEARCH&ppt=None&ppn=None&ssid=t7k6umvhcg0000001677056408039&qH=d6db477051465f9a\n",
      "https://www.flipkart.com/apple-iphone-11-pro-max-midnight-green-512-gb/p/itm47ba29bf364fe?pid=MOBFKCTSG2PWQGCK&lid=LSTMOBFKCTSG2PWQGCKANZW0C&marketplace=FLIPKART&q=iphone11&store=tyy%2F4io&srno=s_1_23&otracker=search&fm=organic&iid=e39f9f48-4974-4056-9f93-82e2f70d7569.MOBFKCTSG2PWQGCK.SEARCH&ppt=None&ppn=None&ssid=t7k6umvhcg0000001677056408039&qH=d6db477051465f9a\n",
      "https://www.flipkart.com/apple-iphone-11-pro-midnight-green-512-gb/p/itm0bdd954387ca9?pid=MOBFKCTSSJCWYGCC&lid=LSTMOBFKCTSSJCWYGCCVRNYWA&marketplace=FLIPKART&q=iphone11&store=tyy%2F4io&srno=s_1_24&otracker=search&fm=organic&iid=e39f9f48-4974-4056-9f93-82e2f70d7569.MOBFKCTSSJCWYGCC.SEARCH&ppt=None&ppn=None&ssid=t7k6umvhcg0000001677056408039&qH=d6db477051465f9a\n"
     ]
    },
    {
     "ename": "AttributeError",
     "evalue": "'NoneType' object has no attribute 'a'",
     "output_type": "error",
     "traceback": [
      "\u001b[1;31m---------------------------------------------------------------------------\u001b[0m",
      "\u001b[1;31mAttributeError\u001b[0m                            Traceback (most recent call last)",
      "Input \u001b[1;32mIn [64]\u001b[0m, in \u001b[0;36m<cell line: 1>\u001b[1;34m()\u001b[0m\n\u001b[0;32m      1\u001b[0m \u001b[38;5;28;01mfor\u001b[39;00m i \u001b[38;5;129;01min\u001b[39;00m bigbox:\n\u001b[1;32m----> 2\u001b[0m     \u001b[38;5;28mprint\u001b[39m(\u001b[38;5;124m\"\u001b[39m\u001b[38;5;124mhttps://www.flipkart.com\u001b[39m\u001b[38;5;124m\"\u001b[39m \u001b[38;5;241m+\u001b[39m \u001b[43mi\u001b[49m\u001b[38;5;241;43m.\u001b[39;49m\u001b[43mdiv\u001b[49m\u001b[38;5;241;43m.\u001b[39;49m\u001b[43mdiv\u001b[49m\u001b[38;5;241;43m.\u001b[39;49m\u001b[43mdiv\u001b[49m\u001b[38;5;241;43m.\u001b[39;49m\u001b[43ma\u001b[49m[\u001b[38;5;124m'\u001b[39m\u001b[38;5;124mhref\u001b[39m\u001b[38;5;124m'\u001b[39m])\n",
      "\u001b[1;31mAttributeError\u001b[0m: 'NoneType' object has no attribute 'a'"
     ]
    }
   ],
   "source": [
    "for i in bigbox:\n",
    "    print(\"https://www.flipkart.com\" + i.div.div.div.a['href'])"
   ]
  },
  {
   "cell_type": "code",
   "execution_count": null,
   "id": "e571b9eb",
   "metadata": {},
   "outputs": [],
   "source": [
    "for i in bigbox:\n",
    "    \n",
    "#     print(\"https://www.flipkart.com\" + i.div.div.div.a['href'])"
   ]
  }
 ],
 "metadata": {
  "kernelspec": {
   "display_name": "Python 3 (ipykernel)",
   "language": "python",
   "name": "python3"
  },
  "language_info": {
   "codemirror_mode": {
    "name": "ipython",
    "version": 3
   },
   "file_extension": ".py",
   "mimetype": "text/x-python",
   "name": "python",
   "nbconvert_exporter": "python",
   "pygments_lexer": "ipython3",
   "version": "3.9.12"
  }
 },
 "nbformat": 4,
 "nbformat_minor": 5
}
